{
  "nbformat": 4,
  "nbformat_minor": 0,
  "metadata": {
    "colab": {
      "name": "Data Scientist Toolbox 1.ipynb",
      "version": "0.3.2",
      "provenance": [],
      "collapsed_sections": [],
      "include_colab_link": true
    },
    "kernelspec": {
      "name": "python3",
      "display_name": "Python 3"
    }
  },
  "cells": [
    {
      "cell_type": "markdown",
      "metadata": {
        "id": "view-in-github",
        "colab_type": "text"
      },
      "source": [
        "[View in Colaboratory](https://colab.research.google.com/github/Indrajeet90/Data-Scientist-with-Python/blob/master/Data_Scientist_Toolbox_1.ipynb)"
      ]
    },
    {
      "metadata": {
        "id": "E-WEGTp_hvTa",
        "colab_type": "text"
      },
      "cell_type": "markdown",
      "source": [
        "It is important to remember that assigning a variable y2 to a function that prints a value but does not return a value will result in that variable y2 being of type NoneType."
      ]
    },
    {
      "metadata": {
        "id": "Z2XGf--hiOl_",
        "colab_type": "text"
      },
      "cell_type": "markdown",
      "source": [
        "**Write a simple function**\n",
        "\n",
        "Define a function, shout(), which simply prints out a string with three exclamation marks '!!!' at the end. The code for the square() function that we wrote earlier is found below. You can use it as a pattern to define shout().\n",
        "\n",
        "def square():   \n",
        "    new_value = 4 ** 2   \n",
        "    return new_value    "
      ]
    },
    {
      "metadata": {
        "id": "NI2TciCUjAwd",
        "colab_type": "code",
        "colab": {
          "base_uri": "https://localhost:8080/",
          "height": 34
        },
        "outputId": "ce20974a-d4f0-423c-addf-75e21c766a33"
      },
      "cell_type": "code",
      "source": [
        "# Define the function shout\n",
        "def shout():\n",
        "    \"\"\"Print a string with three exclamation marks\"\"\"\n",
        "    # Concatenate the strings: shout_word\n",
        "    shout_word='congratulations'+'!!!'\n",
        "\n",
        "    # Print shout_word\n",
        "    print(shout_word)\n",
        "\n",
        "# Call shout\n",
        "shout()"
      ],
      "execution_count": 1,
      "outputs": [
        {
          "output_type": "stream",
          "text": [
            "congratulations!!!\n"
          ],
          "name": "stdout"
        }
      ]
    },
    {
      "metadata": {
        "id": "glNN9vshjHx0",
        "colab_type": "text"
      },
      "cell_type": "markdown",
      "source": [
        "In the previous exercise, you defined and called the function **shout()**, which printed out a string concatenated with '!!!'. You will now update **shout() **by adding a *parameter* so that it can accept and process any string argument passed to it. Also note that **shout(word)**, the part of the header that specifies the function name and parameter(s), is known as the signature of the function. You may encounter this term in the wild!"
      ]
    },
    {
      "metadata": {
        "id": "0ZP0BP3ijCLQ",
        "colab_type": "code",
        "colab": {
          "base_uri": "https://localhost:8080/",
          "height": 34
        },
        "outputId": "e31d6c53-14d9-4419-d6a1-0d443fd37f8b"
      },
      "cell_type": "code",
      "source": [
        "# Define shout with the parameter, word\n",
        "def shout(word):\n",
        "    \"\"\"Print a string with three exclamation marks\"\"\"\n",
        "    # Concatenate the strings: shout_word\n",
        "    shout_word = word + '!!!'\n",
        "\n",
        "    # Print shout_word\n",
        "    print(shout_word)\n",
        "\n",
        "# Call shout with the string 'congratulations'\n",
        "shout('congratulations')"
      ],
      "execution_count": 2,
      "outputs": [
        {
          "output_type": "stream",
          "text": [
            "congratulations!!!\n"
          ],
          "name": "stdout"
        }
      ]
    },
    {
      "metadata": {
        "id": "9ztWZGI5js6y",
        "colab_type": "text"
      },
      "cell_type": "markdown",
      "source": [
        "**Functions that return single values**    \n",
        " Try your hand at another modification to the **shout() **function so that it now returns a single value instead of printing within the function. Recall that the return keyword lets you return values from functions. Parts of the function **shout()**, which you wrote earlier, are shown. Returning values is generally more desirable than printing them out because, as you saw earlier, a **print()** call assigned to a variable has type NoneType"
      ]
    },
    {
      "metadata": {
        "id": "4Z_ovEMMjzSr",
        "colab_type": "code",
        "colab": {
          "base_uri": "https://localhost:8080/",
          "height": 34
        },
        "outputId": "6a350371-6184-4ee8-b747-14137be912f3"
      },
      "cell_type": "code",
      "source": [
        "# Define shout with the parameter, word\n",
        "def shout(word):\n",
        "    \"\"\"Return a string with three exclamation marks\"\"\"\n",
        "    # Concatenate the strings: shout_word\n",
        "    shout_word=word+'!!!'\n",
        "\n",
        "    # Replace print with return\n",
        "    return shout_word\n",
        "\n",
        "# Pass 'congratulations' to shout: yell\n",
        "yell= shout('congratulations')\n",
        "\n",
        "# Print yell\n",
        "print(yell)"
      ],
      "execution_count": 3,
      "outputs": [
        {
          "output_type": "stream",
          "text": [
            "congratulations!!!\n"
          ],
          "name": "stdout"
        }
      ]
    },
    {
      "metadata": {
        "id": "MUytwGgHkxNC",
        "colab_type": "text"
      },
      "cell_type": "markdown",
      "source": [
        "Here it made sense to assign the output of shout('congratulations') to a variable yell because the function shout actually returns a value, it does not merely print one."
      ]
    },
    {
      "metadata": {
        "id": "4Ge4ebOBlAEZ",
        "colab_type": "text"
      },
      "cell_type": "markdown",
      "source": [
        "**Functions with multiple parameters**   \n",
        "You are now going to use what you've learned to modify the shout() function further. Here, you will modify shout() to accept two arguments. Parts of the function shout(), which you wrote earlier, are shown."
      ]
    },
    {
      "metadata": {
        "id": "zZMCB59pkZ-E",
        "colab_type": "code",
        "colab": {
          "base_uri": "https://localhost:8080/",
          "height": 34
        },
        "outputId": "1526e870-82a9-4759-d14f-7cdd06c88681"
      },
      "cell_type": "code",
      "source": [
        "# Define shout with parameters word1 and word2\n",
        "def shout(word1, word2):\n",
        "    \"\"\"Concatenate strings with three exclamation marks\"\"\"\n",
        "    # Concatenate word1 with '!!!': shout1\n",
        "    shout1= word1+'!!!'\n",
        "    \n",
        "    # Concatenate word2 with '!!!': shout2\n",
        "    shout2= word2+'!!!'\n",
        "    \n",
        "    # Concatenate shout1 with shout2: new_shout\n",
        "    new_shout=shout1+shout2\n",
        "\n",
        "    # Return new_shout\n",
        "    return new_shout\n",
        "\n",
        "# Pass 'congratulations' and 'you' to shout(): yell\n",
        "yell=shout('congratulations', 'you')\n",
        "\n",
        "# Print yell\n",
        "print(yell)\n"
      ],
      "execution_count": 4,
      "outputs": [
        {
          "output_type": "stream",
          "text": [
            "congratulations!!!you!!!\n"
          ],
          "name": "stdout"
        }
      ]
    },
    {
      "metadata": {
        "id": "e_6AciqEmqOP",
        "colab_type": "text"
      },
      "cell_type": "markdown",
      "source": [
        "**A brief introduction to tuples**    \n",
        "Alongside learning about functions, you've also learned about tuples! Here, you will practice what you've learned about tuples: how to construct, unpack, and access tuple elements. "
      ]
    },
    {
      "metadata": {
        "id": "4PGfd3R_msmd",
        "colab_type": "code",
        "colab": {}
      },
      "cell_type": "code",
      "source": [
        "# Unpack nums into num1, num2, and num3\n",
        "num1,num2,num3 = nums\n",
        "\n",
        "# Construct even_nums\n",
        "even_nums=(2,num2,num3)"
      ],
      "execution_count": 0,
      "outputs": []
    },
    {
      "metadata": {
        "id": "7dfLhQEbpGCy",
        "colab_type": "text"
      },
      "cell_type": "markdown",
      "source": [
        "Let's now update our **shout()** function to return multiple values. Instead of returning just one string, we will return two strings with the string !!! concatenated to each.\n",
        "\n",
        "Note that the return statement return x, y has the same result as return** (x, y)**: the former actually packs x and y into a tuple under the hood!"
      ]
    },
    {
      "metadata": {
        "id": "3j4_Yws4pG2S",
        "colab_type": "code",
        "colab": {
          "base_uri": "https://localhost:8080/",
          "height": 51
        },
        "outputId": "3a51826a-0446-4a4d-93c0-c2725fc6d8d2"
      },
      "cell_type": "code",
      "source": [
        "# Define shout_all with parameters word1 and word2\n",
        "def shout_all(word1, word2):\n",
        "    \n",
        "    # Concatenate word1 with '!!!': shout1\n",
        "    shout1= word1+'!!!'\n",
        "    \n",
        "    # Concatenate word2 with '!!!': shout2\n",
        "    shout2= word2+'!!!'\n",
        "    \n",
        "    # Construct a tuple with shout1 and shout2: shout_words\n",
        "    shout_words=(shout1,shout2)\n",
        "\n",
        "    # Return shout_words\n",
        "    return shout_words\n",
        "\n",
        "# Pass 'congratulations' and 'you' to shout_all(): yell1, yell2\n",
        "yell1, yell2=shout_all('congratulations','you')\n",
        "\n",
        "# Print yell1 and yell2\n",
        "print(yell1)\n",
        "print(yell2)\n"
      ],
      "execution_count": 5,
      "outputs": [
        {
          "output_type": "stream",
          "text": [
            "congratulations!!!\n",
            "you!!!\n"
          ],
          "name": "stdout"
        }
      ]
    },
    {
      "metadata": {
        "id": "NaY2fk7ArpFE",
        "colab_type": "code",
        "colab": {}
      },
      "cell_type": "code",
      "source": [
        "# Import pandas\n",
        "import pandas as pd\n",
        "\n",
        "# Import Twitter data as DataFrame: df\n",
        "df = pd.read_csv('tweets.csv')\n",
        "\n",
        "# Initialize an empty dictionary: langs_count\n",
        "langs_count = {}\n",
        "\n",
        "# Extract column from DataFrame: col\n",
        "col = df['lang']\n",
        "\n",
        "# Iterate over lang column in DataFrame\n",
        "for entry in col:\n",
        "\n",
        "    # If the language is in langs_count, add 1\n",
        "    if entry in langs_count.keys():\n",
        "        langs_count[entry]+=1\n",
        "    # Else add the language to langs_count, set the value to 1\n",
        "    else:\n",
        "        langs_count[entry]=1\n",
        "\n",
        "# Print the populated dictionary\n",
        "print(langs_count)\n"
      ],
      "execution_count": 0,
      "outputs": []
    },
    {
      "metadata": {
        "id": "Doy8psxVsN9d",
        "colab_type": "text"
      },
      "cell_type": "markdown",
      "source": [
        "You've now defined the functionality for iterating over entries in a column and building a dictionary with keys the names of languages and values the number of tweets in the given language.\n",
        "\n",
        "In this exercise, you will define a function with the functionality you developed in the previous exercise, return the resulting dictionary from within the function, and call the function with the appropriate arguments.\n",
        "\n",
        "For your convenience, the pandas package has been imported as pd and the 'tweets.csv' file has been imported into the tweets_df variable."
      ]
    },
    {
      "metadata": {
        "id": "G7Y6UetrsO77",
        "colab_type": "code",
        "colab": {}
      },
      "cell_type": "code",
      "source": [
        "# Define count_entries()\n",
        "def count_entries(df, col_name):\n",
        "    \"\"\"Return a dictionary with counts of \n",
        "    occurrences as value for each key.\"\"\"\n",
        "\n",
        "    # Initialize an empty dictionary: langs_count\n",
        "    langs_count = {}\n",
        "    \n",
        "    # Extract column from DataFrame: col\n",
        "    col = df[col_name]\n",
        "    \n",
        "    # Iterate over lang column in DataFrame\n",
        "    for entry in col:\n",
        "\n",
        "        # If the language is in langs_count, add 1\n",
        "        if entry in langs_count.keys():\n",
        "            langs_count[entry]+=1\n",
        "        # Else add the language to langs_count, set the value to 1\n",
        "        else:\n",
        "            langs_count[entry]=1\n",
        "\n",
        "    # Return the langs_count dictionary\n",
        "    return langs_count\n",
        "\n",
        "# Call count_entries(): result\n",
        "result=count_entries(tweets_df,'lang')\n",
        "\n",
        "# Print the result\n",
        "print(result)\n"
      ],
      "execution_count": 0,
      "outputs": []
    },
    {
      "metadata": {
        "id": "UcJZMksxsfCL",
        "colab_type": "text"
      },
      "cell_type": "markdown",
      "source": [
        "**Scope and user-defined functions**\n"
      ]
    },
    {
      "metadata": {
        "id": "fhKJiyzx3iEW",
        "colab_type": "code",
        "colab": {
          "base_uri": "https://localhost:8080/",
          "height": 51
        },
        "outputId": "697c0667-66b3-4739-cb12-84abc7fc0186"
      },
      "cell_type": "code",
      "source": [
        "# Create a string: team\n",
        "team = \"teen titans\"\n",
        "\n",
        "# Define change_team()\n",
        "def change_team():\n",
        "    \"\"\"Change the value of the global variable team.\"\"\"\n",
        "\n",
        "    # Use team in global scope\n",
        "    global team\n",
        "\n",
        "    # Change the value of team in global: team\n",
        "    team=\"justice league\"\n",
        "# Print team\n",
        "print(team)\n",
        "\n",
        "# Call change_team()\n",
        "change_team()\n",
        "\n",
        "# Print team\n",
        "print(team)"
      ],
      "execution_count": 6,
      "outputs": [
        {
          "output_type": "stream",
          "text": [
            "teen titans\n",
            "justice league\n"
          ],
          "name": "stdout"
        }
      ]
    },
    {
      "metadata": {
        "id": "jNHye2oQ34WT",
        "colab_type": "text"
      },
      "cell_type": "markdown",
      "source": [
        "**Nested Functions**"
      ]
    },
    {
      "metadata": {
        "id": "KhPU6fFJ3-dI",
        "colab_type": "text"
      },
      "cell_type": "markdown",
      "source": [
        "In this exercise, inside a function **three_shouts()**, you will define a nested function **inner() **that concatenates a string object with !!!. **three_shouts()** then returns a tuple of three elements, each a string concatenated with !!! using** inner()**."
      ]
    },
    {
      "metadata": {
        "id": "G4kYn2dm35_N",
        "colab_type": "code",
        "colab": {
          "base_uri": "https://localhost:8080/",
          "height": 34
        },
        "outputId": "2cc240fe-5fdc-419d-d0ec-4d2929b5eb69"
      },
      "cell_type": "code",
      "source": [
        "# Define three_shouts\n",
        "def three_shouts(word1, word2, word3):\n",
        "    \"\"\"Returns a tuple of strings\n",
        "    concatenated with '!!!'.\"\"\"\n",
        "\n",
        "    # Define inner\n",
        "    def inner(word):\n",
        "        \"\"\"Returns a string concatenated with '!!!'.\"\"\"\n",
        "        return word + '!!!'\n",
        "\n",
        "    # Return a tuple of strings\n",
        "    return (inner(word1), inner(word2), inner(word3))\n",
        "\n",
        "# Call three_shouts() and print\n",
        "print(three_shouts('a', 'b', 'c'))"
      ],
      "execution_count": 7,
      "outputs": [
        {
          "output_type": "stream",
          "text": [
            "('a!!!', 'b!!!', 'c!!!')\n"
          ],
          "name": "stdout"
        }
      ]
    },
    {
      "metadata": {
        "id": "DhYFQs6S5TjJ",
        "colab_type": "text"
      },
      "cell_type": "markdown",
      "source": [
        "Now, you will complete the definition of the inner function inner_echo() and then call echo() a couple of times, each with a different argument. "
      ]
    },
    {
      "metadata": {
        "id": "k8QcsZrE5XHh",
        "colab_type": "code",
        "colab": {
          "base_uri": "https://localhost:8080/",
          "height": 34
        },
        "outputId": "3815a3e4-2e93-4b2b-8215-b00d077b808d"
      },
      "cell_type": "code",
      "source": [
        "# Define echo\n",
        "def echo(n):\n",
        "    \"\"\"Return the inner_echo function.\"\"\"\n",
        "\n",
        "    # Define inner_echo\n",
        "    def inner_echo(word1):\n",
        "        \"\"\"Concatenate n copies of word1.\"\"\"\n",
        "        echo_word = word1 * n\n",
        "        return echo_word\n",
        "\n",
        "    # Return inner_echo\n",
        "    return inner_echo\n",
        "\n",
        "# Call echo: twice\n",
        "twice = echo(2)\n",
        "\n",
        "# Call echo: thrice\n",
        "thrice=echo(3)\n",
        "\n",
        "# Call twice() and thrice() then print\n",
        "print(twice('hello'), thrice('hello'))"
      ],
      "execution_count": 8,
      "outputs": [
        {
          "output_type": "stream",
          "text": [
            "hellohello hellohellohello\n"
          ],
          "name": "stdout"
        }
      ]
    },
    {
      "metadata": {
        "id": "-waAfDcY9u2h",
        "colab_type": "code",
        "colab": {
          "base_uri": "https://localhost:8080/",
          "height": 51
        },
        "outputId": "861377f8-c698-4c0b-eb60-f39ab8e4070e"
      },
      "cell_type": "code",
      "source": [
        "# Define echo_shout()\n",
        "def echo_shout(word):\n",
        "    \"\"\"Change the value of a nonlocal variable\"\"\"\n",
        "    \n",
        "    # Concatenate word with itself: echo_word\n",
        "    echo_word=word+word\n",
        "    \n",
        "    # Print echo_word\n",
        "    print(echo_word)\n",
        "    \n",
        "    # Define inner function shout()\n",
        "    def shout():\n",
        "        \"\"\"Alter a variable in the enclosing scope\"\"\"    \n",
        "        # Use echo_word in nonlocal scope\n",
        "        nonlocal echo_word\n",
        "        \n",
        "        # Change echo_word to echo_word concatenated with '!!!'\n",
        "        echo_word = echo_word+'!!!'\n",
        "    \n",
        "    # Call function shout()\n",
        "    shout()\n",
        "    \n",
        "    # Print echo_word\n",
        "    print(echo_word)\n",
        "\n",
        "# Call function echo_shout() with argument 'hello'\n",
        "echo_shout('hello')"
      ],
      "execution_count": 9,
      "outputs": [
        {
          "output_type": "stream",
          "text": [
            "hellohello\n",
            "hellohello!!!\n"
          ],
          "name": "stdout"
        }
      ]
    },
    {
      "metadata": {
        "id": "K-VQNbFf9y-1",
        "colab_type": "text"
      },
      "cell_type": "markdown",
      "source": [
        "**Functions with one default argument**"
      ]
    },
    {
      "metadata": {
        "id": "IpRVsatv90aT",
        "colab_type": "code",
        "colab": {
          "base_uri": "https://localhost:8080/",
          "height": 51
        },
        "outputId": "28724b72-e59e-4022-f8a3-92b5940ff81c"
      },
      "cell_type": "code",
      "source": [
        "# Define shout_echo\n",
        "def shout_echo(word1, echo=1):\n",
        "    \"\"\"Concatenate echo copies of word1 and three\n",
        "     exclamation marks at the end of the string.\"\"\"\n",
        "\n",
        "    # Concatenate echo copies of word1 using *: echo_word\n",
        "    echo_word = word1* echo\n",
        "\n",
        "    # Concatenate '!!!' to echo_word: shout_word\n",
        "    shout_word = echo_word + '!!!'\n",
        "\n",
        "    # Return shout_word\n",
        "    return shout_word\n",
        "\n",
        "# Call shout_echo() with \"Hey\": no_echo\n",
        "no_echo = shout_echo(\"Hey\")\n",
        "\n",
        "# Call shout_echo() with \"Hey\" and echo=5: with_echo\n",
        "with_echo = shout_echo(\"Hey\",echo=5)\n",
        "\n",
        "# Print no_echo and with_echo\n",
        "print(no_echo)\n",
        "print(with_echo)"
      ],
      "execution_count": 10,
      "outputs": [
        {
          "output_type": "stream",
          "text": [
            "Hey!!!\n",
            "HeyHeyHeyHeyHey!!!\n"
          ],
          "name": "stdout"
        }
      ]
    },
    {
      "metadata": {
        "id": "6MgR8UV7-pUp",
        "colab_type": "text"
      },
      "cell_type": "markdown",
      "source": [
        "**Functions with multiple default arguments**"
      ]
    },
    {
      "metadata": {
        "id": "Rpuwr6nz-rW1",
        "colab_type": "code",
        "colab": {
          "base_uri": "https://localhost:8080/",
          "height": 51
        },
        "outputId": "6a727d98-ae75-480f-ceda-bb9364fc6bf9"
      },
      "cell_type": "code",
      "source": [
        "# Define shout_echo\n",
        "def shout_echo(word1, echo=1, intense=False):\n",
        "    \"\"\"Concatenate echo copies of word1 and three\n",
        "    exclamation marks at the end of the string.\"\"\"\n",
        "\n",
        "    # Concatenate echo copies of word1 using *: echo_word\n",
        "    echo_word = word1 * echo\n",
        "\n",
        "    # Capitalize echo_word if intense is True\n",
        "    if intense is True:\n",
        "        # Capitalize and concatenate '!!!': echo_word_new\n",
        "        echo_word_new = echo_word.upper() + '!!!'\n",
        "    else:\n",
        "        # Concatenate '!!!' to echo_word: echo_word_new\n",
        "        echo_word_new = echo_word + '!!!'\n",
        "\n",
        "    # Return echo_word_new\n",
        "    return echo_word_new\n",
        "\n",
        "# Call shout_echo() with \"Hey\", echo=5 and intense=True: with_big_echo\n",
        "with_big_echo = shout_echo(\"Hey\", echo=5,intense=True)\n",
        "\n",
        "# Call shout_echo() with \"Hey\" and intense=True: big_no_echo\n",
        "big_no_echo = shout_echo(\"Hey\",intense=True)\n",
        "\n",
        "# Print values\n",
        "print(with_big_echo)\n",
        "print(big_no_echo)"
      ],
      "execution_count": 11,
      "outputs": [
        {
          "output_type": "stream",
          "text": [
            "HEYHEYHEYHEYHEY!!!\n",
            "HEY!!!\n"
          ],
          "name": "stdout"
        }
      ]
    },
    {
      "metadata": {
        "id": "GfCwNrRk_R-v",
        "colab_type": "text"
      },
      "cell_type": "markdown",
      "source": [
        "**Functions with variable-length arguments** (*args) "
      ]
    },
    {
      "metadata": {
        "id": "6PgfDHAj_ZY1",
        "colab_type": "code",
        "colab": {
          "base_uri": "https://localhost:8080/",
          "height": 51
        },
        "outputId": "8e313cfa-c745-4dc1-ad4c-3cad9570f4ce"
      },
      "cell_type": "code",
      "source": [
        "# Define gibberish\n",
        "def gibberish(*args):\n",
        "    \"\"\"Concatenate strings in *args together.\"\"\"\n",
        "\n",
        "    # Initialize an empty string: hodgepodge\n",
        "    hodgepodge=\"\"\n",
        "    # Concatenate the strings in args\n",
        "    for word in args:\n",
        "        hodgepodge += word\n",
        "\n",
        "    # Return hodgepodge\n",
        "    return hodgepodge\n",
        "\n",
        "# Call gibberish() with one string: one_word\n",
        "one_word = gibberish(\"luke\")\n",
        "\n",
        "# Call gibberish() with five strings: many_words\n",
        "many_words = gibberish(\"luke\", \"leia\", \"han\", \"obi\", \"darth\")\n",
        "\n",
        "# Print one_word and many_words\n",
        "print(one_word)\n",
        "print(many_words)"
      ],
      "execution_count": 12,
      "outputs": [
        {
          "output_type": "stream",
          "text": [
            "luke\n",
            "lukeleiahanobidarth\n"
          ],
          "name": "stdout"
        }
      ]
    },
    {
      "metadata": {
        "id": "yZgDCF4EAdEv",
        "colab_type": "text"
      },
      "cell_type": "markdown",
      "source": [
        "**Functions with variable-length keyword arguments** (**kwargs)"
      ]
    },
    {
      "metadata": {
        "id": "6KWTo1UtAhTb",
        "colab_type": "code",
        "colab": {
          "base_uri": "https://localhost:8080/",
          "height": 289
        },
        "outputId": "8e56dab1-42b6-4065-a4c9-3bc925dad435"
      },
      "cell_type": "code",
      "source": [
        "# Define report_status\n",
        "def report_status(**kwargs):\n",
        "    \"\"\"Print out the status of a movie character.\"\"\"\n",
        "\n",
        "    print(\"\\nBEGIN: REPORT\\n\")\n",
        "\n",
        "    # Iterate over the key-value pairs of kwargs\n",
        "    for key, value in kwargs.items():\n",
        "        # Print out the keys and values, separated by a colon ':'\n",
        "        print(key + \": \" + value)\n",
        "\n",
        "    print(\"\\nEND REPORT\")\n",
        "\n",
        "# First call to report_status()\n",
        "report_status(name=\"luke\", affiliation=\"jedi\",status=\"missing\")\n",
        "\n",
        "# Second call to report_status()\n",
        "report_status(name=\"anakin\", affiliation=\"sith lord\", status=\"deceased\")"
      ],
      "execution_count": 13,
      "outputs": [
        {
          "output_type": "stream",
          "text": [
            "\n",
            "BEGIN: REPORT\n",
            "\n",
            "name: luke\n",
            "affiliation: jedi\n",
            "status: missing\n",
            "\n",
            "END REPORT\n",
            "\n",
            "BEGIN: REPORT\n",
            "\n",
            "name: anakin\n",
            "affiliation: sith lord\n",
            "status: deceased\n",
            "\n",
            "END REPORT\n"
          ],
          "name": "stdout"
        }
      ]
    },
    {
      "metadata": {
        "id": "sOXJWgg6zEsD",
        "colab_type": "code",
        "colab": {}
      },
      "cell_type": "code",
      "source": [
        "# Define count_entries()\n",
        "def count_entries(df, col_name='lang'):\n",
        "    \"\"\"Return a dictionary with counts of\n",
        "    occurrences as value for each key.\"\"\"\n",
        "\n",
        "    # Initialize an empty dictionary: cols_count\n",
        "    cols_count = {}\n",
        "\n",
        "    # Extract column from DataFrame: col\n",
        "    col = df[col_name]\n",
        "    \n",
        "    # Iterate over the column in DataFrame\n",
        "    for entry in col:\n",
        "\n",
        "        # If entry is in cols_count, add 1\n",
        "        if entry in cols_count.keys():\n",
        "            cols_count[entry] += 1\n",
        "\n",
        "        # Else add the entry to cols_count, set the value to 1\n",
        "        else:\n",
        "            cols_count[entry] = 1\n",
        "\n",
        "    # Return the cols_count dictionary\n",
        "    return cols_count\n",
        "\n",
        "# Call count_entries(): result1\n",
        "result1 = count_entries(tweets_df)\n",
        "\n",
        "# Call count_entries(): result2\n",
        "result2 = count_entries(tweets_df, col_name='source')\n",
        "\n",
        "# Print result1 and result2\n",
        "print(result1)\n",
        "print(result2)"
      ],
      "execution_count": 0,
      "outputs": []
    },
    {
      "metadata": {
        "id": "ZFOaVNqSzfpa",
        "colab_type": "code",
        "colab": {}
      },
      "cell_type": "code",
      "source": [
        "# Define count_entries()\n",
        "def count_entries(df, *args):\n",
        "    \"\"\"Return a dictionary with counts of\n",
        "    occurrences as value for each key.\"\"\"\n",
        "    \n",
        "    #Initialize an empty dictionary: cols_count\n",
        "    cols_count = {}\n",
        "    \n",
        "    # Iterate over column names in args\n",
        "    for col_name in args:\n",
        "    \n",
        "        # Extract column from DataFrame: col\n",
        "        col = df[col_name]\n",
        "    \n",
        "        # Iterate over the column in DataFrame\n",
        "        for entry in col:\n",
        "    \n",
        "            # If entry is in cols_count, add 1\n",
        "            if entry in cols_count.keys():\n",
        "                cols_count[entry] += 1\n",
        "    \n",
        "            # Else add the entry to cols_count, set the value to 1\n",
        "            else:\n",
        "                cols_count[entry] = 1\n",
        "\n",
        "    # Return the cols_count dictionary\n",
        "    return cols_count\n",
        "\n",
        "# Call count_entries(): result1\n",
        "result1 = count_entries(tweets_df, 'lang')\n",
        "\n",
        "# Call count_entries(): result2\n",
        "result2 = count_entries(tweets_df, 'lang', 'source')\n",
        "\n",
        "# Print result1 and result2\n",
        "print(result1)\n",
        "print(result2)"
      ],
      "execution_count": 0,
      "outputs": []
    },
    {
      "metadata": {
        "id": "mf5tcyQ3zkKl",
        "colab_type": "text"
      },
      "cell_type": "markdown",
      "source": [
        "# Lambda functions"
      ]
    },
    {
      "metadata": {
        "id": "-wrOw-8EzlsJ",
        "colab_type": "text"
      },
      "cell_type": "markdown",
      "source": [
        "**Writing a lambda function you already know**\n",
        "\n",
        "Some function definitions are simple enough that they can be converted to a lambda function. By doing this, you write less lines of code, which is pretty awesome and will come in handy, especially when you're writing and maintaining big programs. In this exercise, you will use what you know about lambda functions to convert a function that does a simple task into a lambda function. Take a look at this function definition:\n",
        "\n",
        "**def** echo_word(word1, echo):    \n",
        "    \"\"\"Concatenate echo copies of word1.\"\"\"     \n",
        "    words = word1 * echo        \n",
        "    **return** words            \n",
        "The function echo_word takes 2 parameters: a string value, word1 and an integer value, echo. It returns a string that is a concatenation of echo copies of word1. Your task is to convert this simple function into a lambda function."
      ]
    },
    {
      "metadata": {
        "id": "I3CixVZZ0jh5",
        "colab_type": "code",
        "colab": {
          "base_uri": "https://localhost:8080/",
          "height": 34
        },
        "outputId": "5a35092b-235c-4a5d-ea40-988a36c26ddb"
      },
      "cell_type": "code",
      "source": [
        "# Define echo_word as a lambda function: echo_word\n",
        "echo_word = (lambda word1, echo: word1*echo)\n",
        "\n",
        "# Call echo_word: result\n",
        "result = echo_word('hey',5)\n",
        "\n",
        "# Print result\n",
        "print(result)\n"
      ],
      "execution_count": 14,
      "outputs": [
        {
          "output_type": "stream",
          "text": [
            "heyheyheyheyhey\n"
          ],
          "name": "stdout"
        }
      ]
    },
    {
      "metadata": {
        "id": "HRd3frPl1pKt",
        "colab_type": "text"
      },
      "cell_type": "markdown",
      "source": [
        "**Map() and lambda functions**\n",
        "\n",
        "So far, you've used lambda functions to write short, simple functions as well as to redefine functions with simple functionality. The best use case for lambda functions, however, are for when you want these simple functionalities to be anonymously embedded within larger expressions. What that means is that the functionality is not stored in the environment, unlike a function defined with def. To understand this idea better, you will use a lambda function in the context of the map() function.\n",
        "\n",
        "Recall from the video that map() applies a function over an object, such as a list. Here, you can use lambda functions to define the function that map() will use to process the object. For example:\n",
        "\n",
        "nums = [2, 4, 6, 8, 10]\n",
        "\n",
        "result = map(lambda a: a ** 2, nums)\n",
        "You can see here that a lambda function, which raises a value a to the power of 2, is passed to map() alongside a list of numbers, nums. The map object that results from the call to map() is stored in result. You will now practice the use of lambda functions with map(). For this exercise, you will map the functionality of the add_bangs() function you defined in previous exercises over a list of strings."
      ]
    },
    {
      "metadata": {
        "id": "losRSVNK1sNS",
        "colab_type": "code",
        "colab": {
          "base_uri": "https://localhost:8080/",
          "height": 34
        },
        "outputId": "056a4199-53fe-44f7-be1c-cbe937b41eeb"
      },
      "cell_type": "code",
      "source": [
        "# Create a list of strings: spells\n",
        "spells = [\"protego\", \"accio\", \"expecto patronum\", \"legilimens\"]\n",
        "\n",
        "# Use map() to apply a lambda function over spells: shout_spells\n",
        "shout_spells = map(lambda item: item+\"!!!\", spells)\n",
        "\n",
        "# Convert shout_spells to a list: shout_spells_list\n",
        "shout_spells_list=list(shout_spells)\n",
        "\n",
        "# Convert shout_spells into a list and print it\n",
        "print(shout_spells_list)\n"
      ],
      "execution_count": 15,
      "outputs": [
        {
          "output_type": "stream",
          "text": [
            "['protego!!!', 'accio!!!', 'expecto patronum!!!', 'legilimens!!!']\n"
          ],
          "name": "stdout"
        }
      ]
    },
    {
      "metadata": {
        "id": "IheOuytrGe4D",
        "colab_type": "text"
      },
      "cell_type": "markdown",
      "source": [
        "**Filter() and lambda functions**\n",
        "\n",
        "In the previous exercise, you used lambda functions to anonymously embed an operation within map(). The function filter() offers a way to filter out elements from a list that don't satisfy certain criteria.\n",
        "\n",
        "Your goal in this exercise is to use filter() to create, from an input list of strings, a new list that contains only strings that have more than 6 characters."
      ]
    },
    {
      "metadata": {
        "id": "5TUSoM6hGjOW",
        "colab_type": "code",
        "colab": {
          "base_uri": "https://localhost:8080/",
          "height": 34
        },
        "outputId": "1e304c10-52c7-41f2-dd9b-720722ba98a0"
      },
      "cell_type": "code",
      "source": [
        "# Create a list of strings: fellowship\n",
        "fellowship = ['frodo', 'samwise', 'merry', 'pippin', 'aragorn', 'boromir', 'legolas', 'gimli', 'gandalf']\n",
        "\n",
        "# Use filter() to apply a lambda function over fellowship: result\n",
        "result = filter(lambda member :len(member)>6 , fellowship)\n",
        "\n",
        "# Convert result to a list: result_list\n",
        "result_list=list(result)\n",
        "\n",
        "# Convert result into a list and print it\n",
        "print(result_list)\n",
        "\n"
      ],
      "execution_count": 17,
      "outputs": [
        {
          "output_type": "stream",
          "text": [
            "['samwise', 'aragorn', 'boromir', 'legolas', 'gandalf']\n"
          ],
          "name": "stdout"
        }
      ]
    },
    {
      "metadata": {
        "id": "zoRACC5PHeJ9",
        "colab_type": "text"
      },
      "cell_type": "markdown",
      "source": [
        "**Reduce() and lambda functions**\n",
        "\n",
        "You're getting very good at using lambda functions! Here's one more function to add to your repertoire of skills. The reduce() function is useful for performing some computation on a list and, unlike map() and filter(), returns a single value as a result. To use reduce(), you must import it from the **functools** module."
      ]
    },
    {
      "metadata": {
        "id": "C0_bLJY7HVGv",
        "colab_type": "code",
        "colab": {
          "base_uri": "https://localhost:8080/",
          "height": 34
        },
        "outputId": "287de6a7-2933-4d2e-dff6-2d6fb2dfb460"
      },
      "cell_type": "code",
      "source": [
        "# Import reduce from functools\n",
        "from functools import reduce\n",
        "\n",
        "# Create a list of strings: stark\n",
        "stark = ['robb', 'sansa', 'arya', 'brandon', 'rickon']\n",
        "\n",
        "# Use reduce() to apply a lambda function over stark: result\n",
        "result = reduce(lambda item1,item2: item1+item2,stark)\n",
        "\n",
        "# Print the result\n",
        "print(result)\n"
      ],
      "execution_count": 18,
      "outputs": [
        {
          "output_type": "stream",
          "text": [
            "robbsansaaryabrandonrickon\n"
          ],
          "name": "stdout"
        }
      ]
    },
    {
      "metadata": {
        "id": "n9CwZcdEKAgQ",
        "colab_type": "text"
      },
      "cell_type": "markdown",
      "source": [
        "**Error handling with try-except**\n",
        "\n",
        "A good practice in writing your own functions is also anticipating the ways in which other people (or yourself, if you accidentally misuse your own function) might use the function you defined.\n",
        "\n",
        "As in the previous exercise, you saw that the len() function is able to handle input arguments such as strings, lists, and tuples, but not int type ones and raises an appropriate error and error message when it encounters invalid input arguments. One way of doing this is through exception handling with the try-except block."
      ]
    },
    {
      "metadata": {
        "id": "QDxBK5JfKGHr",
        "colab_type": "code",
        "colab": {
          "base_uri": "https://localhost:8080/",
          "height": 51
        },
        "outputId": "2daf56c0-c57d-4632-c3e8-119a10ddada2"
      },
      "cell_type": "code",
      "source": [
        "# Define shout_echo\n",
        "def shout_echo(word1, echo=1):\n",
        "    \"\"\"Concatenate echo copies of word1 and three\n",
        "    exclamation marks at the end of the string.\"\"\"\n",
        "\n",
        "    # Initialize empty strings: echo_word, shout_words\n",
        "    echo_word=\"\"\n",
        "    shout_words=\"\"\n",
        "    \n",
        "\n",
        "    # Add exception handling with try-except\n",
        "    try:\n",
        "        # Concatenate echo copies of word1 using *: echo_word\n",
        "        echo_word = word1*echo\n",
        "\n",
        "        # Concatenate '!!!' to echo_word: shout_words\n",
        "        shout_words = echo_word+'!!!'\n",
        "    except:\n",
        "        # Print error message\n",
        "        print(\"word1 must be a string and echo must be an integer.\")\n",
        "\n",
        "    # Return shout_words\n",
        "    return shout_words\n",
        "\n",
        "# Call shout_echo\n",
        "shout_echo(\"particle\", echo=\"accelerator\")\n"
      ],
      "execution_count": 19,
      "outputs": [
        {
          "output_type": "stream",
          "text": [
            "word1 must be a string and echo must be an integer.\n"
          ],
          "name": "stdout"
        },
        {
          "output_type": "execute_result",
          "data": {
            "text/plain": [
              "''"
            ]
          },
          "metadata": {
            "tags": []
          },
          "execution_count": 19
        }
      ]
    },
    {
      "metadata": {
        "id": "cKUMICAmLzV4",
        "colab_type": "text"
      },
      "cell_type": "markdown",
      "source": [
        "**Error handling by raising an error**\n",
        "\n",
        "Another way to raise an error is by using raise. In this exercise, you will add a raise statement to the shout_echo() function you defined before to raise an error message when the value supplied by the user to the echo argument is less than 0.\n",
        "\n",
        "The call to shout_echo() uses valid argument values. To test and see how the raise statement works, simply change the value for the echo argument to a negative value"
      ]
    },
    {
      "metadata": {
        "id": "Yo-xqeT-L2UT",
        "colab_type": "code",
        "colab": {
          "base_uri": "https://localhost:8080/",
          "height": 34
        },
        "outputId": "02ad86eb-3283-44d3-f5a3-4333373c1733"
      },
      "cell_type": "code",
      "source": [
        "# Define shout_echo\n",
        "def shout_echo(word1, echo=1):\n",
        "    \"\"\"Concatenate echo copies of word1 and three\n",
        "    exclamation marks at the end of the string.\"\"\"\n",
        "\n",
        "    # Raise an error with raise\n",
        "    if echo < 0:\n",
        "        raise ValueError('echo must be greater than 0')\n",
        "\n",
        "    # Concatenate echo copies of word1 using *: echo_word\n",
        "    echo_word = word1 * echo\n",
        "\n",
        "    # Concatenate '!!!' to echo_word: shout_word\n",
        "    shout_word = echo_word + '!!!'\n",
        "\n",
        "    # Return shout_word\n",
        "    return shout_word\n",
        "\n",
        "# Call shout_echo\n",
        "shout_echo(\"particle\", echo=5)\n"
      ],
      "execution_count": 20,
      "outputs": [
        {
          "output_type": "execute_result",
          "data": {
            "text/plain": [
              "'particleparticleparticleparticleparticle!!!'"
            ]
          },
          "metadata": {
            "tags": []
          },
          "execution_count": 20
        }
      ]
    },
    {
      "metadata": {
        "id": "9bnZa3MpOdNW",
        "colab_type": "text"
      },
      "cell_type": "markdown",
      "source": [
        "You have  learned how to write anonymous functions using lambda, how to pass lambda functions as arguments to other functions such as map(), filter(), and reduce(), as well as how to write errors and output custom error messages within your functions. You will now put together these learnings to good use by working with a Twitter dataset. Before practicing your new error handling skills,in this exercise, you will write a lambda function and use filter() to select retweets, that is, tweets that begin with the string 'RT'."
      ]
    },
    {
      "metadata": {
        "id": "fJnyXet4Od5A",
        "colab_type": "code",
        "colab": {}
      },
      "cell_type": "code",
      "source": [
        "# Select retweets from the Twitter DataFrame: result\n",
        "result = filter(lambda x: x[0:2] == 'RT', tweets_df['text'])\n",
        "\n",
        "# Create list from filter object result: res_list\n",
        "res_list = list(result)\n",
        "\n",
        "# Print all retweets in res_list\n",
        "for tweet in res_list:\n",
        "    print(tweet)\n"
      ],
      "execution_count": 0,
      "outputs": []
    },
    {
      "metadata": {
        "id": "uPurQfBiXNa-",
        "colab_type": "code",
        "colab": {}
      },
      "cell_type": "code",
      "source": [
        "# Define count_entries()\n",
        "def count_entries(df, col_name='lang'):\n",
        "    \"\"\"Return a dictionary with counts of\n",
        "    occurrences as value for each key.\"\"\"\n",
        "    \n",
        "    # Raise a ValueError if col_name is NOT in DataFrame\n",
        "    if col_name not in df.columns:\n",
        "        raise ValueError('The DataFrame does not have a ' + col_name + ' column.')\n",
        "\n",
        "    # Initialize an empty dictionary: cols_count\n",
        "    cols_count = {}\n",
        "    \n",
        "    # Extract column from DataFrame: col\n",
        "    col = df[col_name]\n",
        "    \n",
        "    # Iterate over the column in DataFrame\n",
        "    for entry in col:\n",
        "\n",
        "        # If entry is in cols_count, add 1\n",
        "        if entry in cols_count.keys():\n",
        "            cols_count[entry] += 1\n",
        "            # Else add the entry to cols_count, set the value to 1\n",
        "        else:\n",
        "            cols_count[entry] = 1\n",
        "        \n",
        "        # Return the cols_count dictionary\n",
        "    return cols_count\n",
        "\n",
        "# Call count_entries(): result1\n",
        "result1=count_entries(tweets_df,'lang')\n",
        "\n",
        "# Print result1\n",
        "print(result1)\n"
      ],
      "execution_count": 0,
      "outputs": []
    }
  ]
}