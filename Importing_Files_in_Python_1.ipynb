{
  "nbformat": 4,
  "nbformat_minor": 0,
  "metadata": {
    "colab": {
      "name": "Importing Files in Python 1.ipynb",
      "version": "0.3.2",
      "provenance": [],
      "collapsed_sections": [],
      "include_colab_link": true
    },
    "kernelspec": {
      "name": "python3",
      "display_name": "Python 3"
    }
  },
  "cells": [
    {
      "cell_type": "markdown",
      "metadata": {
        "id": "view-in-github",
        "colab_type": "text"
      },
      "source": [
        "[View in Colaboratory](https://colab.research.google.com/github/Indrajeet90/Data-Scientist-with-Python/blob/master/Importing_Files_in_Python_1.ipynb)"
      ]
    },
    {
      "metadata": {
        "id": "M2N_vK683AU2",
        "colab_type": "text"
      },
      "cell_type": "markdown",
      "source": [
        "**Exploring working directory**\n",
        "\n",
        "IPython has a bunch of cool commands, including its magic commands. For example, starting a line with ! gives you complete system shell access. This means that the IPython magic command ! ls will display the contents of your current directory. Your task is to use the IPython magic command ! ls to check out the contents of your current directory."
      ]
    },
    {
      "metadata": {
        "id": "Td08mYvT4mpn",
        "colab_type": "text"
      },
      "cell_type": "markdown",
      "source": [
        "In this exercise, you'll be working with the file moby_dick.txt. It is a text file that contains the opening sentences of Moby Dick, one of the great American novels! Here you'll get experience opening a text file, printing its contents to the shell and, finally, closing it."
      ]
    },
    {
      "metadata": {
        "id": "IsFwys3ldQH1",
        "colab_type": "code",
        "colab": {}
      },
      "cell_type": "code",
      "source": [
        "# Open a file: file\n",
        "file = open('moby_dick.txt', 'r')\n",
        "\n",
        "# Print it\n",
        "print(file.read())\n",
        "\n",
        "# Check whether file is closed\n",
        "print(file.closed)\n",
        "\n",
        "# Close file\n",
        "file.close()\n",
        "\n",
        "# Check whether file is closed\n",
        "print(file.closed)\n"
      ],
      "execution_count": 0,
      "outputs": []
    },
    {
      "metadata": {
        "id": "_ePVM4rE4xZE",
        "colab_type": "text"
      },
      "cell_type": "markdown",
      "source": [
        "**Importing text files line by line**\n",
        "\n",
        "For large files, we may not want to print all of their content to the shell: you may wish to print only the first few lines. Enter the** readline()** method, which allows you to do this. When a file called file is open, you can print out the first line by executing **file.readline().** If you execute the same command again, the second line will print, and so on.\n",
        "\n",
        "You can bind a variable file by using a context manager construct:\n",
        "\n",
        "*with open('huck_finn.txt') as file:*\n",
        "\n",
        "While still within this construct, the variable file will be bound to **open('huck_finn.txt');** thus, to print the file to the shell, all the code you need to execute is:\n",
        "\n",
        "*with open('huck_finn.txt') as file:*\n",
        "    *print(file.read()) *"
      ]
    },
    {
      "metadata": {
        "id": "EagO_EZS5D57",
        "colab_type": "code",
        "colab": {}
      },
      "cell_type": "code",
      "source": [
        "# Read & print the first 3 lines\n",
        "with open('moby_dick.txt') as file:\n",
        "    print(file.readline())\n",
        "    print(file.readline())\n",
        "    print(file.readline())\n"
      ],
      "execution_count": 0,
      "outputs": []
    },
    {
      "metadata": {
        "id": "HT7Kbfr95gQL",
        "colab_type": "text"
      },
      "cell_type": "markdown",
      "source": [
        "# Importing flat files using NumPy\n"
      ]
    },
    {
      "metadata": {
        "id": "f1kiQVfW6YIo",
        "colab_type": "text"
      },
      "cell_type": "markdown",
      "source": [
        "**Using NumPy to import flat files**\n",
        "\n",
        "In this exercise, you're now going to load the MNIST digit recognition dataset using the numpy function** loadtxt()** and see just how easy it can be:\n",
        "\n",
        "*   The first argument will be the filename.\n",
        "*   The second will be the delimiter which, in this case, is a comma.\n",
        "\n"
      ]
    },
    {
      "metadata": {
        "id": "zRNgJChJ63QW",
        "colab_type": "code",
        "colab": {}
      },
      "cell_type": "code",
      "source": [
        "# Import package\n",
        "import numpy as np\n",
        "\n",
        "# Assign filename to variable: file\n",
        "file = 'digits.csv'\n",
        "\n",
        "# Load file as array: digits\n",
        "digits = np.loadtxt(file, delimiter=',')\n",
        "\n",
        "# Print datatype of digits\n",
        "print(type(digits))\n",
        "\n",
        "# Select and reshape a row\n",
        "im = digits[21, 1:]\n",
        "im_sq = np.reshape(im, (28, 28))\n",
        "\n",
        "# Plot reshaped data (matplotlib.pyplot already loaded as plt)\n",
        "plt.imshow(im_sq, cmap='Greys', interpolation='nearest')\n",
        "plt.show()\n"
      ],
      "execution_count": 0,
      "outputs": []
    },
    {
      "metadata": {
        "id": "5YOyHkac7ZZV",
        "colab_type": "text"
      },
      "cell_type": "markdown",
      "source": [
        "**Customizing NumPy import**\n",
        "What if there are rows, such as a header, that you don't want to import? What if your file has a delimiter other than a comma? What if you only wish to import particular columns?\n",
        "\n",
        "There are a number of arguments that **np.loadtxt()** takes that you'll find useful: delimiter changes the delimiter that** loadtxt()** is expecting, for example, you can use ',' and '\\t' for comma-delimited and tab-delimited respectively; skiprows allows you to specify how many rows (not indices) you wish to skip; usecols takes a list of the indices of the columns you wish to keep.\n",
        "\n",
        "The file that you'll be importing, digits_header.txt,\n",
        "\n",
        "*   has a header\n",
        "*   is tab-delimited.\n",
        "\n"
      ]
    },
    {
      "metadata": {
        "id": "-wu6Yw8G7m9s",
        "colab_type": "code",
        "colab": {}
      },
      "cell_type": "code",
      "source": [
        "# Import numpy\n",
        "import numpy as np\n",
        "\n",
        "# Assign the filename: file\n",
        "file = 'digits_header.txt'\n",
        "\n",
        "# Load the data: data\n",
        "data = np.loadtxt(file, delimiter='\\t', skiprows=1, usecols=[0,2])\n",
        "\n",
        "# Print data\n",
        "print(data)\n"
      ],
      "execution_count": 0,
      "outputs": []
    },
    {
      "metadata": {
        "id": "5pc3sZ9d8Nsh",
        "colab_type": "text"
      },
      "cell_type": "markdown",
      "source": [
        "**Importing different datatypes**\n",
        "\n",
        "The file seaslug.txt\n",
        "\n",
        "*   has a text header, consisting of strings\n",
        "*   is tab-delimited.\n",
        "\n",
        "These data consists of percentage of sea slug larvae that had metamorphosed in a given time period. \n",
        "\n",
        "Due to the header, if you tried to import it as-is using **np.loadtxt(**), Python would throw you a **ValueError** and tell you that it **could not convert string to float**. There are two ways to deal with this: firstly, you can set the data type argument dtype equal to str (for string).\n",
        "\n",
        "Alternatively, you can skip the first row as we have seen before, using the** skiprows** argument."
      ]
    },
    {
      "metadata": {
        "id": "VghTlWW38hxp",
        "colab_type": "code",
        "colab": {
          "base_uri": "https://localhost:8080/",
          "height": 395
        },
        "outputId": "8b0c6c74-5e8c-4cf3-f05b-fd5fc9c57ef4"
      },
      "cell_type": "code",
      "source": [
        "import numpy as np\n",
        "import matplotlib.pyplot as plt\n",
        "# Assign filename: file\n",
        "file = 'seaslug.txt'\n",
        "\n",
        "# Import file: data\n",
        "data = np.loadtxt(file, delimiter='\\t', dtype=str)\n",
        "\n",
        "# Print the first element of data\n",
        "print(data[0])\n",
        "\n",
        "# Import data as floats and skip the first row: data_float\n",
        "data_float = np.loadtxt(file, delimiter=\"\\t\", dtype=float, skiprows=1)\n",
        "\n",
        "# Print the 10th element of data_float\n",
        "print(data_float[9])\n",
        "\n",
        "# Plot a scatterplot of the data\n",
        "plt.scatter(data_float[:, 0], data_float[:, 1])\n",
        "plt.xlabel('time (min.)')\n",
        "plt.ylabel('percentage of larvae')\n",
        "plt.show()\n",
        "\n"
      ],
      "execution_count": 5,
      "outputs": [
        {
          "output_type": "stream",
          "text": [
            "['Time' 'Percent']\n",
            "[0.    0.357]\n"
          ],
          "name": "stdout"
        },
        {
          "output_type": "display_data",
          "data": {
            "image/png": "[encoded data removed]",
            "text/plain": [
              "<matplotlib.figure.Figure at 0x7f43d8f626a0>"
            ]
          },
          "metadata": {
            "tags": []
          }
        }
      ]
    },
    {
      "metadata": {
        "id": "nc5fSGYa-FsU",
        "colab_type": "text"
      },
      "cell_type": "markdown",
      "source": [
        "**Working with mixed datatypes**\n",
        "\n",
        "Much of the time you will need to import datasets which have different datatypes in different columns; one column may contain strings and another floats, for example. The function **np.loadtxt()** will freak at this. There is another function, **np.genfromtxt(),** which can handle such structures. If we pass **dtype=None** to it, it will figure out what types each column should be.\n",
        "\n",
        "Import 'titanic.csv' using the function **np.genfromtxt() **as follows:\n",
        "\n",
        "**data = np.genfromtxt('titanic.csv', delimiter=',', names=True, dtype=None)**  \n",
        "Here, the first argument is the filename, the second specifies the delimiter , and the third argument names tells us there is a header. Because the data are of different types, data is an object called a structured array. Because numpy arrays have to contain elements that are all the same type, the structured array solves this by being a 1D array, where each element of the array is a row of the flat file imported."
      ]
    },
    {
      "metadata": {
        "id": "y0sacNAe9bH5",
        "colab_type": "code",
        "colab": {
          "base_uri": "https://localhost:8080/",
          "height": 71
        },
        "outputId": "56609664-aab7-4ca5-c44b-66fc7e5bfbb4"
      },
      "cell_type": "code",
      "source": [
        "import numpy as np\n",
        "data = np.genfromtxt('titanic_sub.csv', delimiter=',', names=True, dtype=None)"
      ],
      "execution_count": 7,
      "outputs": [
        {
          "output_type": "stream",
          "text": [
            "/usr/local/lib/python3.6/dist-packages/ipykernel_launcher.py:2: VisibleDeprecationWarning: Reading unicode strings without specifying the encoding argument is deprecated. Set the encoding, use None for the system default.\n",
            "  \n"
          ],
          "name": "stderr"
        }
      ]
    },
    {
      "metadata": {
        "id": "qBP_soU3_Rvo",
        "colab_type": "text"
      },
      "cell_type": "markdown",
      "source": [
        "There is also another function **np.recfromcsv()** that behaves similarly to **np.genfromtxt(),** except that its default dtype is **None.** In this exercise, you'll practice using this to achieve the same result."
      ]
    },
    {
      "metadata": {
        "id": "SaC_-1mY_HEo",
        "colab_type": "code",
        "colab": {
          "base_uri": "https://localhost:8080/",
          "height": 122
        },
        "outputId": "db1daf0d-ae79-4321-8092-713c5c8c3e74"
      },
      "cell_type": "code",
      "source": [
        "# Assign the filename: file\n",
        "file = 'titanic_sub.csv'\n",
        "\n",
        "# Import file using np.recfromcsv: d\n",
        "d = np.recfromcsv(file)\n",
        "\n",
        "# Print out first three entries of d\n",
        "print(d[:3])\n"
      ],
      "execution_count": 10,
      "outputs": [
        {
          "output_type": "stream",
          "text": [
            "[(1, 0, 3, b'male', 22., 1, 0, b'A/5 21171',  7.25  , b'', b'S')\n",
            " (2, 1, 1, b'female', 38., 1, 0, b'PC 17599', 71.2833, b'C85', b'C')\n",
            " (3, 1, 3, b'female', 26., 0, 0, b'STON/O2. 3101282',  7.925 , b'', b'S')]\n"
          ],
          "name": "stdout"
        },
        {
          "output_type": "stream",
          "text": [
            "/usr/local/lib/python3.6/dist-packages/numpy/lib/npyio.py:2266: VisibleDeprecationWarning: Reading unicode strings without specifying the encoding argument is deprecated. Set the encoding, use None for the system default.\n",
            "  output = genfromtxt(fname, **kwargs)\n"
          ],
          "name": "stderr"
        }
      ]
    },
    {
      "metadata": {
        "id": "OmVQHqCu_1dT",
        "colab_type": "text"
      },
      "cell_type": "markdown",
      "source": [
        "# Importing flat files using pandas\n"
      ]
    },
    {
      "metadata": {
        "id": "NvxjSkkoAScH",
        "colab_type": "text"
      },
      "cell_type": "markdown",
      "source": [
        "**Using pandas to import flat files as DataFrames**\n",
        "\n",
        "The DataFrame object in pandas is a more appropriate structure in which to store such data and, thankfully, we can easily import files of mixed data types as DataFrames using the pandas functions **read_csv() **and **read_table().**"
      ]
    },
    {
      "metadata": {
        "id": "ckDeuqWMARyN",
        "colab_type": "code",
        "colab": {
          "base_uri": "https://localhost:8080/",
          "height": 238
        },
        "outputId": "b4eb3a81-118c-48fe-b630-163ff4ea0817"
      },
      "cell_type": "code",
      "source": [
        "# Import pandas as pd\n",
        "import pandas as pd\n",
        "\n",
        "# Assign the filename: file\n",
        "file = 'titanic.csv'\n",
        "\n",
        "# Read the file into a DataFrame: df\n",
        "df = pd.read_csv(file)\n",
        "\n",
        "# View the head of the DataFrame\n",
        "print(df.head())\n"
      ],
      "execution_count": 12,
      "outputs": [
        {
          "output_type": "stream",
          "text": [
            "   PassengerId  Survived  Pclass     Sex   Age  SibSp  Parch  \\\n",
            "0            1         0       3    male  22.0      1      0   \n",
            "1            2         1       1  female  38.0      1      0   \n",
            "2            3         1       3  female  26.0      0      0   \n",
            "3            4         1       1  female  35.0      1      0   \n",
            "4            5         0       3    male  35.0      0      0   \n",
            "\n",
            "             Ticket     Fare Cabin Embarked  \n",
            "0         A/5 21171   7.2500   NaN        S  \n",
            "1          PC 17599  71.2833   C85        C  \n",
            "2  STON/O2. 3101282   7.9250   NaN        S  \n",
            "3            113803  53.1000  C123        S  \n",
            "4            373450   8.0500   NaN        S  \n"
          ],
          "name": "stdout"
        }
      ]
    },
    {
      "metadata": {
        "id": "m7WBT5jFA3Aj",
        "colab_type": "text"
      },
      "cell_type": "markdown",
      "source": [
        "In the last exercise, you were able to import flat files into a pandas DataFrame. As a bonus, it is then straightforward to retrieve the corresponding **numpy** array using the attribute **values**. You'll now have a chance to do this using the MNIST dataset, which is available as digits.csv."
      ]
    },
    {
      "metadata": {
        "id": "k4AHQiXh_qeC",
        "colab_type": "code",
        "colab": {
          "base_uri": "https://localhost:8080/",
          "height": 34
        },
        "outputId": "eed744bb-a346-4e3f-d93f-d8741d9c18d8"
      },
      "cell_type": "code",
      "source": [
        "# Assign the filename: file\n",
        "file = 'digits.csv'\n",
        "\n",
        "# Read the first 5 rows of the file into a DataFrame: data\n",
        "data=pd.read_csv(file, nrows=5, header=None)\n",
        "\n",
        "# Build a numpy array from the DataFrame: data_array\n",
        "data_array=np.array(data.values)\n",
        "\n",
        "# Print the datatype of data_array to the shell\n",
        "print(type(data_array))"
      ],
      "execution_count": 13,
      "outputs": [
        {
          "output_type": "stream",
          "text": [
            "<class 'numpy.ndarray'>\n"
          ],
          "name": "stdout"
        }
      ]
    },
    {
      "metadata": {
        "id": "naWEwQJaBw9I",
        "colab_type": "text"
      },
      "cell_type": "markdown",
      "source": [
        "**Customizing  pandas import**\n",
        "\n",
        "The pandas package is also great at dealing with many of the issues you will encounter when importing data as a data scientist, such as comments occurring in flat files, empty lines and missing values. Note that missing values are also commonly referred to as NA or NaN. To wrap up this chapter, you're now going to import a slightly corrupted copy of the Titanic dataset **titanic_corrupt.txt**, which\n",
        "\n",
        "contains comments after the character '#'  \n",
        "is tab-delimited.  "
      ]
    },
    {
      "metadata": {
        "id": "x1POu71JB2U5",
        "colab_type": "code",
        "colab": {}
      },
      "cell_type": "code",
      "source": [
        "# Import matplotlib.pyplot as plt\n",
        "import matplotlib.pyplot as plt\n",
        "\n",
        "# Assign filename: file\n",
        "file = 'titanic_corrupt.txt'\n",
        "\n",
        "# Import file: data\n",
        "data = pd.read_csv(file, sep='\\t', comment='#', na_values='Nothing')\n",
        "\n",
        "# Print the head of the DataFrame\n",
        "print(data.head())\n",
        "\n",
        "# Plot 'Age' variable in a histogram\n",
        "pd.DataFrame.hist(data[['Age']])\n",
        "plt.xlabel('Age (years)')\n",
        "plt.ylabel('count')\n",
        "plt.show()"
      ],
      "execution_count": 0,
      "outputs": []
    },
    {
      "metadata": {
        "id": "V4Xyrn7fDoxT",
        "colab_type": "text"
      },
      "cell_type": "markdown",
      "source": [
        "# Other File Types"
      ]
    },
    {
      "metadata": {
        "id": "qByI-tqMDsih",
        "colab_type": "text"
      },
      "cell_type": "markdown",
      "source": [
        "The first line of the following code imports the library os, the second line stores the name of the current directory in a string called wd and the third outputs the contents of the directory in a list to the shell.\n",
        "\n",
        "import os   \n",
        "wd = os.getcwd()   \n",
        "os.listdir(wd)  "
      ]
    },
    {
      "metadata": {
        "id": "ytTQZ6KhED4q",
        "colab_type": "text"
      },
      "cell_type": "markdown",
      "source": [
        "**Loading a pickled file**\n",
        "\n",
        "There are a number of datatypes that cannot be saved easily to flat files, such as lists and dictionaries. If you want your files to be human readable, you may want to save them as text files in a clever manner. JSONs, which you will see in a later chapter, are appropriate for Python dictionaries.\n",
        "\n",
        "However, if you merely want to be able to import them into Python, you can **serialize** them. All this means is converting the object into a sequence of bytes, or a bytestream."
      ]
    },
    {
      "metadata": {
        "id": "kwLuf2U6EIJJ",
        "colab_type": "code",
        "colab": {}
      },
      "cell_type": "code",
      "source": [
        "# Import pickle package\n",
        "import pickle \n",
        "\n",
        "# Open pickle file and load data: d\n",
        "with open('data.pkl', 'rb') as file:\n",
        "    d = pickle.load(file)\n",
        "\n",
        "# Print d\n",
        "print(d)\n",
        "\n",
        "# Print datatype of d\n",
        "print(type(d))\n"
      ],
      "execution_count": 0,
      "outputs": []
    },
    {
      "metadata": {
        "id": "RX0Bwc7JEvVY",
        "colab_type": "text"
      },
      "cell_type": "markdown",
      "source": [
        "**Listing sheets in Excel files**\n",
        "\n",
        "Whether you like it or not, any working data scientist will need to deal with Excel spreadsheets at some point in time. You won't always want to do so in Excel, however!\n",
        "\n",
        "Here, you'll learn how to use **pandas** to import Excel spreadsheets and how to list the names of the sheets in any loaded .xlsx file.\n",
        "\n",
        "Given an Excel file imported into a variable **spreadsheet**, you can retrieve a list of the sheet names using the attribute **spreadsheet.sheet_names.**"
      ]
    },
    {
      "metadata": {
        "id": "je2YPcHQFeUN",
        "colab_type": "code",
        "colab": {}
      },
      "cell_type": "code",
      "source": [
        "!pip install -q xlrd"
      ],
      "execution_count": 0,
      "outputs": []
    },
    {
      "metadata": {
        "id": "sl631zvRE4MG",
        "colab_type": "code",
        "colab": {
          "base_uri": "https://localhost:8080/",
          "height": 34
        },
        "outputId": "81e6c3a6-35ca-4858-8a1b-260189f267c1"
      },
      "cell_type": "code",
      "source": [
        "# Import pandas\n",
        "import pandas as pd\n",
        "\n",
        "# Assign spreadsheet filename: file\n",
        "file = 'battledeath.xlsx'\n",
        "\n",
        "# Load spreadsheet: xl\n",
        "xl = pd.ExcelFile(file)\n",
        "\n",
        "# Print sheet names\n",
        "print(xl.sheet_names)\n"
      ],
      "execution_count": 16,
      "outputs": [
        {
          "output_type": "stream",
          "text": [
            "['2002', '2004']\n"
          ],
          "name": "stdout"
        }
      ]
    },
    {
      "metadata": {
        "id": "GTZME-87FpDR",
        "colab_type": "text"
      },
      "cell_type": "markdown",
      "source": [
        "**Importing sheets from Excel files**\n",
        "\n",
        "In the previous exercises, you saw that the Excel file contains two sheets, '2002' and '2004'. The next step is to import these.\n",
        "\n",
        "In this exercise, you'll learn how to import any given sheet of your loaded .xlsx file as a DataFrame. You'll be able to do so by specifying either the sheet's name or its index."
      ]
    },
    {
      "metadata": {
        "id": "HwVUzJFmFq-l",
        "colab_type": "code",
        "colab": {
          "base_uri": "https://localhost:8080/",
          "height": 221
        },
        "outputId": "fbfd0472-6cdb-4ff2-8b91-ff0e99a37e8c"
      },
      "cell_type": "code",
      "source": [
        "# Load a sheet into a DataFrame by name: df1\n",
        "df1 = xl.parse('2004')\n",
        "\n",
        "# Print the head of the DataFrame df1\n",
        "print(df1.head())\n",
        "\n",
        "# Load a sheet into a DataFrame by index: df2\n",
        "df2 = xl.parse(0)\n",
        "\n",
        "# Print the head of the DataFrame df2\n",
        "print(df2.head())"
      ],
      "execution_count": 17,
      "outputs": [
        {
          "output_type": "stream",
          "text": [
            "  War(country)      2004\n",
            "0  Afghanistan  9.451028\n",
            "1      Albania  0.130354\n",
            "2      Algeria  3.407277\n",
            "3      Andorra  0.000000\n",
            "4       Angola  2.597931\n",
            "  War, age-adjusted mortality due to       2002\n",
            "0                        Afghanistan  36.083990\n",
            "1                            Albania   0.128908\n",
            "2                            Algeria  18.314120\n",
            "3                            Andorra   0.000000\n",
            "4                             Angola  18.964560\n"
          ],
          "name": "stdout"
        }
      ]
    },
    {
      "metadata": {
        "id": "SE7EegVmGN36",
        "colab_type": "text"
      },
      "cell_type": "markdown",
      "source": [
        "**Customizing spreadsheet import**\n",
        "\n",
        "Here, you'll parse your spreadsheets and use additional arguments to skip rows, rename columns and select only particular columns.\n",
        "\n",
        "The spreadsheet **'battledeath.xlsx' **is already loaded as xl.\n",
        "\n",
        "As before, you'll use the method **parse()**. This time, however, you'll add the additional arguments **skiprows, names and parse_cols.** These skip rows, name the columns and designate which columns to parse, respectively. All these arguments can be assigned to lists containing the specific row numbers, strings and column numbers, as appropriate."
      ]
    },
    {
      "metadata": {
        "id": "b2aRiHCiGWnt",
        "colab_type": "code",
        "colab": {}
      },
      "cell_type": "code",
      "source": [
        "# Parse the first sheet and rename the columns: df1\n",
        "df1 = xl.parse(0, skiprows=[0], names=('Country','AAM due to War (2002)'))\n",
        "\n",
        "# Print the head of the DataFrame df1\n",
        "print(df1.head())\n",
        "\n",
        "# Parse the first column of the second sheet and rename the column: df2\n",
        "df2 = xl.parse(1, parse_cols=[0], skiprows=[0], names=['Country'])\n",
        "\n",
        "# Print the head of the DataFrame df2\n",
        "print(df2.head())\n"
      ],
      "execution_count": 0,
      "outputs": []
    },
    {
      "metadata": {
        "id": "3jBulUyHHlwO",
        "colab_type": "text"
      },
      "cell_type": "markdown",
      "source": [
        "# Importing SAS/Stata files using pandas"
      ]
    },
    {
      "metadata": {
        "id": "2-X7aeuMHnCw",
        "colab_type": "text"
      },
      "cell_type": "markdown",
      "source": [
        "**Importing SAS files**\n",
        "\n",
        "In this exercise, you'll figure out how to import a SAS file as a DataFrame using **SAS7BDAT** and pandas. The file 'sales.sas7bdat' is going to be imported.\n",
        "\n"
      ]
    },
    {
      "metadata": {
        "id": "dwi_YJ1UJD3o",
        "colab_type": "code",
        "colab": {}
      },
      "cell_type": "code",
      "source": [
        "import pandas as pd\n",
        "import matplotlib.pyplot as plt\n",
        "plt.style.use('seaborn-white')"
      ],
      "execution_count": 0,
      "outputs": []
    },
    {
      "metadata": {
        "id": "QXQAVHT7KjE-",
        "colab_type": "code",
        "colab": {}
      },
      "cell_type": "code",
      "source": [
        "!pip install -q sas7bdat"
      ],
      "execution_count": 0,
      "outputs": []
    },
    {
      "metadata": {
        "id": "H695QlCiJYZx",
        "colab_type": "code",
        "colab": {
          "base_uri": "https://localhost:8080/",
          "height": 464
        },
        "outputId": "eebdbb60-f335-40af-91f0-3a5e672fb884"
      },
      "cell_type": "code",
      "source": [
        "# Import sas7bdat package\n",
        "from sas7bdat import SAS7BDAT\n",
        "\n",
        "# Save file to a DataFrame: df_sas\n",
        "with SAS7BDAT('sales.sas7bdat') as file:\n",
        "    df_sas=file.to_data_frame()\n",
        "\n",
        "# Print head of DataFrame\n",
        "print(df_sas.head())\n",
        "\n",
        "# Plot histogram of DataFrame features (pandas and pyplot already imported)\n",
        "pd.DataFrame.hist(df_sas[['P']])\n",
        "plt.ylabel('count')\n",
        "plt.show()\n",
        "\n"
      ],
      "execution_count": 24,
      "outputs": [
        {
          "output_type": "stream",
          "text": [
            "     YEAR     P           S\n",
            "0  1950.0  12.9  181.899994\n",
            "1  1951.0  11.9  245.000000\n",
            "2  1952.0  10.7  250.199997\n",
            "3  1953.0  11.3  265.899994\n",
            "4  1954.0  11.2  248.500000\n"
          ],
          "name": "stdout"
        },
        {
          "output_type": "display_data",
          "data": {
            "image/png": "[encoded data removed]",
            "text/plain": [
              "<matplotlib.figure.Figure at 0x7f43d5d20ac8>"
            ]
          },
          "metadata": {
            "tags": []
          }
        }
      ]
    },
    {
      "metadata": {
        "id": "_hciSgA8LQfu",
        "colab_type": "text"
      },
      "cell_type": "markdown",
      "source": [
        "**Importing Stata files**\n",
        "\n",
        "Here, you'll gain expertise in importing Stata files as DataFrames using the **pd.read_stata()** function from pandas. We are going to read the stata file 'disarea.dta'."
      ]
    },
    {
      "metadata": {
        "id": "zrbwXhmyLZwm",
        "colab_type": "code",
        "colab": {
          "base_uri": "https://localhost:8080/",
          "height": 750
        },
        "outputId": "518b7f9e-c747-4e74-ae56-a77282421455"
      },
      "cell_type": "code",
      "source": [
        "# Import pandas\n",
        "import pandas as pd\n",
        "\n",
        "# Load Stata file into a pandas DataFrame: df\n",
        "df=pd.read_stata('disarea.dta')\n",
        "\n",
        "# Print the head of the DataFrame df\n",
        "print(df.head())\n",
        "\n",
        "# Plot histogram of one column of the DataFrame\n",
        "pd.DataFrame.hist(df[['disa10']])\n",
        "plt.xlabel('Extent of disease')\n",
        "plt.ylabel('Number of countries')\n",
        "plt.show()\n"
      ],
      "execution_count": 25,
      "outputs": [
        {
          "output_type": "stream",
          "text": [
            "  wbcode               country  disa1  disa2  disa3  disa4  disa5  disa6  \\\n",
            "0    AFG           Afghanistan   0.00   0.00   0.76   0.73    0.0   0.00   \n",
            "1    AGO                Angola   0.32   0.02   0.56   0.00    0.0   0.00   \n",
            "2    ALB               Albania   0.00   0.00   0.02   0.00    0.0   0.00   \n",
            "3    ARE  United Arab Emirates   0.00   0.00   0.00   0.00    0.0   0.00   \n",
            "4    ARG             Argentina   0.00   0.24   0.24   0.00    0.0   0.23   \n",
            "\n",
            "   disa7  disa8   ...    disa16  disa17  disa18  disa19  disa20  disa21  \\\n",
            "0   0.00    0.0   ...       0.0     0.0     0.0    0.00    0.00     0.0   \n",
            "1   0.56    0.0   ...       0.0     0.4     0.0    0.61    0.00     0.0   \n",
            "2   0.00    0.0   ...       0.0     0.0     0.0    0.00    0.00     0.0   \n",
            "3   0.00    0.0   ...       0.0     0.0     0.0    0.00    0.00     0.0   \n",
            "4   0.00    0.0   ...       0.0     0.0     0.0    0.00    0.05     0.0   \n",
            "\n",
            "   disa22  disa23  disa24  disa25  \n",
            "0    0.00    0.02    0.00    0.00  \n",
            "1    0.99    0.98    0.61    0.00  \n",
            "2    0.00    0.00    0.00    0.16  \n",
            "3    0.00    0.00    0.00    0.00  \n",
            "4    0.00    0.01    0.00    0.11  \n",
            "\n",
            "[5 rows x 27 columns]\n"
          ],
          "name": "stdout"
        },
        {
          "output_type": "display_data",
          "data": {
            "image/png": "[encoded data removed]",
            "text/plain": [
              "<matplotlib.figure.Figure at 0x7f43d5cb45f8>"
            ]
          },
          "metadata": {
            "tags": []
          }
        }
      ]
    },
    {
      "metadata": {
        "id": "CobTWN2sL82S",
        "colab_type": "text"
      },
      "cell_type": "markdown",
      "source": [
        "# Importing HDF5 files"
      ]
    },
    {
      "metadata": {
        "id": "jdDtxao-L98b",
        "colab_type": "text"
      },
      "cell_type": "markdown",
      "source": [
        "**Using h5py to import HDF5 files**\n",
        "\n",
        "In this exercise, you'll import 'LIGO_data.hdf5' using the h5py library. You'll also print out its datatype to confirm you have imported it correctly. You'll then study the structure of the file in order to see precisely what HDF groups it contains."
      ]
    },
    {
      "metadata": {
        "id": "ij2PGPv4NoXp",
        "colab_type": "code",
        "colab": {
          "base_uri": "https://localhost:8080/",
          "height": 85
        },
        "outputId": "654e5455-6130-48e1-cdc9-f8d9a13f989f"
      },
      "cell_type": "code",
      "source": [
        "# Import packages\n",
        "import numpy as np\n",
        "import h5py\n",
        "\n",
        "# Assign filename: file\n",
        "file='LIGO_data.hdf5'\n",
        "\n",
        "# Load file: data\n",
        "data = h5py.File(file,'r')\n",
        "\n",
        "# Print the datatype of the loaded file\n",
        "print(type(data))\n",
        "\n",
        "# Print the keys of the file\n",
        "for keys in data.keys():\n",
        "    print(keys)\n"
      ],
      "execution_count": 28,
      "outputs": [
        {
          "output_type": "stream",
          "text": [
            "<class 'h5py._hl.files.File'>\n",
            "meta\n",
            "quality\n",
            "strain\n"
          ],
          "name": "stdout"
        }
      ]
    },
    {
      "metadata": {
        "id": "K5bxf-GrO3O6",
        "colab_type": "text"
      },
      "cell_type": "markdown",
      "source": [
        "**Extracting data from your HDF5 file**\n",
        "\n",
        "In this exercise, you'll extract some of the LIGO experiment's actual data from the HDF5 file and you'll visualize it.\n",
        "\n",
        "To do so, you'll need to first explore the HDF5 group **'strain'**"
      ]
    },
    {
      "metadata": {
        "id": "RAR56mujO58q",
        "colab_type": "code",
        "colab": {
          "base_uri": "https://localhost:8080/",
          "height": 389
        },
        "outputId": "243036f9-dff7-4e26-bfd3-8754a5018020"
      },
      "cell_type": "code",
      "source": [
        "# Get the HDF5 group: group\n",
        "group=data['strain']\n",
        "\n",
        "# Check out keys of group\n",
        "for key in group.keys():\n",
        "    print(key)\n",
        "\n",
        "# Set variable equal to time series data: strain\n",
        "strain=data['strain']['Strain'].value\n",
        "\n",
        "# Set number of time points to sample: num_samples\n",
        "num_samples=10000\n",
        "\n",
        "# Set time vector\n",
        "time = np.arange(0, 1, 1/num_samples)\n",
        "\n",
        "# Plot data\n",
        "plt.plot(time, strain[:num_samples])\n",
        "plt.xlabel('GPS Time (s)')\n",
        "plt.ylabel('strain')\n",
        "plt.show()\n"
      ],
      "execution_count": 29,
      "outputs": [
        {
          "output_type": "stream",
          "text": [
            "Strain\n"
          ],
          "name": "stdout"
        },
        {
          "output_type": "display_data",
          "data": {
            "image/png": "[encoded data removed]",
            "text/plain": [
              "<matplotlib.figure.Figure at 0x7f43d1ffc8d0>"
            ]
          },
          "metadata": {
            "tags": []
          }
        }
      ]
    },
    {
      "metadata": {
        "id": "gX_yko2GPhnH",
        "colab_type": "text"
      },
      "cell_type": "markdown",
      "source": [
        "# Importing MATLAB files\n"
      ]
    },
    {
      "metadata": {
        "id": "-MyZLBwCPi1t",
        "colab_type": "text"
      },
      "cell_type": "markdown",
      "source": [
        "**Loading .mat files**\n",
        "\n",
        "In this exercise, you'll figure out how to load a MATLAB file using** scipy.io.loadmat() **and you'll discover what Python datatype it yields.\n",
        "\n",
        "The file** 'albeck_gene_expression.mat' **is in your working directory. This file contains gene expression data from the Albeck Lab at UC Davis. "
      ]
    },
    {
      "metadata": {
        "id": "cbDxzeSfQDG4",
        "colab_type": "code",
        "colab": {}
      },
      "cell_type": "code",
      "source": [
        "# Import package\n",
        "import scipy.io\n",
        "\n",
        "# Load MATLAB file: mat\n",
        "mat=scipy.io.loadmat('albeck_gene_expression.mat')\n",
        "\n",
        "# Print the datatype type of mat\n",
        "print(type(mat))\n"
      ],
      "execution_count": 0,
      "outputs": []
    },
    {
      "metadata": {
        "id": "a_V7azsVQUAx",
        "colab_type": "text"
      },
      "cell_type": "markdown",
      "source": [
        "**The structure of .mat in Python**\n",
        "\n",
        "The file 'albeck_gene_expression.mat' is already loaded into the variable mat. The following libraries have already been imported as follows:"
      ]
    },
    {
      "metadata": {
        "id": "58mFC588Qdqa",
        "colab_type": "code",
        "colab": {}
      },
      "cell_type": "code",
      "source": [
        "import scipy.io\n",
        "import matplotlib.pyplot as plt\n",
        "import numpy as np"
      ],
      "execution_count": 0,
      "outputs": []
    },
    {
      "metadata": {
        "id": "0TdJJLHLQ4iq",
        "colab_type": "code",
        "colab": {}
      },
      "cell_type": "code",
      "source": [
        "# Print the keys of the MATLAB dictionary\n",
        "print(mat.keys())\n",
        "\n",
        "# Print the type of the value corresponding to the key 'CYratioCyt'\n",
        "print(type(mat['CYratioCyt']))\n",
        "\n",
        "# Print the shape of the value corresponding to the key 'CYratioCyt'\n",
        "print(np.shape(mat['CYratioCyt']))\n",
        "\n",
        "# Subset the array and plot it\n",
        "data = mat['CYratioCyt'][25, 5:]\n",
        "fig = plt.figure()\n",
        "plt.plot(data)\n",
        "plt.xlabel('time (min.)')\n",
        "plt.ylabel('normalized fluorescence (measure of expression)')\n",
        "plt.show()"
      ],
      "execution_count": 0,
      "outputs": []
    },
    {
      "metadata": {
        "id": "tj6FOhkdQ-Cu",
        "colab_type": "text"
      },
      "cell_type": "markdown",
      "source": [
        "# Introduction to relational databases\n"
      ]
    },
    {
      "metadata": {
        "id": "_2f0T2FHQ_TH",
        "colab_type": "text"
      },
      "cell_type": "markdown",
      "source": [
        "**Creating a database engine**\n",
        "\n",
        "You'll create an engine to connect to the SQLite database **'Chinook.sqlite', **which is in your working directory. Remember that to create an engine to connect to 'Northwind.sqlite', Hugo executed the command\n",
        "\n",
        "**engine = create_engine('sqlite:///Northwind.sqlite')**    \n",
        "Here, **'sqlite:///Northwind.sqlite' **is called the connection string to the SQLite database Northwind.sqlite. \n"
      ]
    },
    {
      "metadata": {
        "id": "U-nawun4WJSx",
        "colab_type": "code",
        "colab": {}
      },
      "cell_type": "code",
      "source": [
        "!pip install -q sqlalchemy"
      ],
      "execution_count": 0,
      "outputs": []
    },
    {
      "metadata": {
        "id": "3PBJ2d8zUjGp",
        "colab_type": "code",
        "colab": {}
      },
      "cell_type": "code",
      "source": [
        "# Import necessary module\n",
        "from sqlalchemy import create_engine\n",
        "\n",
        "# Create engine: engine\n",
        "engine = create_engine('sqlite:///Chinook.sqlite')"
      ],
      "execution_count": 0,
      "outputs": []
    },
    {
      "metadata": {
        "id": "0HzPOwqiUnDl",
        "colab_type": "text"
      },
      "cell_type": "markdown",
      "source": [
        "**The tables in the database**\n",
        "\n",
        "In this exercise, you'll once again create an engine to connect to **'Chinook.sqlite'.** Before you can get any data out of the database, however, you'll need to know what tables it contains!\n",
        "\n",
        "To this end, you'll save the table names to a list using the method **table_names() **on the engine and then you will print the list."
      ]
    },
    {
      "metadata": {
        "id": "6nFoVpN1UuR3",
        "colab_type": "code",
        "colab": {
          "base_uri": "https://localhost:8080/",
          "height": 34
        },
        "outputId": "9c8a4d24-2638-4b4e-98a6-826d7bf6724b"
      },
      "cell_type": "code",
      "source": [
        "# Import necessary module\n",
        "from sqlalchemy import create_engine\n",
        "\n",
        "# Create engine: engine\n",
        "engine = create_engine('sqlite:///Chinook.sqlite')\n",
        "\n",
        "# Save the table names to a list: table_names\n",
        "table_names=engine.table_names()\n",
        "\n",
        "# Print the table names to the shell\n",
        "print(table_names)"
      ],
      "execution_count": 35,
      "outputs": [
        {
          "output_type": "stream",
          "text": [
            "[]\n"
          ],
          "name": "stdout"
        }
      ]
    },
    {
      "metadata": {
        "id": "Twq5zYZpWpQ3",
        "colab_type": "text"
      },
      "cell_type": "markdown",
      "source": [
        "# Querying relational databases in Python"
      ]
    },
    {
      "metadata": {
        "id": "GwGkKsMcXB9u",
        "colab_type": "text"
      },
      "cell_type": "markdown",
      "source": [
        "**The Hello World of SQL Queries!**\n",
        "\n",
        "In this exercise, you'll perform the Hello World of SQL queries, SELECT, in order to retrieve all columns of the table Album in the Chinook database. Recall that the query **SELECT * **selects all columns."
      ]
    },
    {
      "metadata": {
        "id": "t2rqIzcMWk8y",
        "colab_type": "code",
        "colab": {}
      },
      "cell_type": "code",
      "source": [
        "# Import packages\n",
        "from sqlalchemy import create_engine\n",
        "import pandas as pd\n",
        "\n",
        "# Create engine: engine\n",
        "engine = create_engine('sqlite:///Chinook.sqlite')\n",
        "\n",
        "# Open engine connection: con\n",
        "con=engine.connect()\n",
        "\n",
        "# Perform query: rs\n",
        "rs = con.execute(\"SELECT * FROM Album\")\n",
        "\n",
        "# Save results of the query to DataFrame: df\n",
        "df = pd.DataFrame(rs.fetchall())\n",
        "\n",
        "# Close connection\n",
        "con.close()\n",
        "\n",
        "# Print head of DataFrame df\n",
        "print(df.head())"
      ],
      "execution_count": 0,
      "outputs": []
    },
    {
      "metadata": {
        "id": "5dQL26VLYw5B",
        "colab_type": "text"
      },
      "cell_type": "markdown",
      "source": [
        "**Customizing the Hello World of SQL Queries**\n",
        "\n",
        "Now you're going to figure out how to customize your query in order to:\n",
        "\n",
        "Select specified columns from a table;   \n",
        "Select a specified number of rows;   \n",
        "Import column names from the database table.  \n",
        "\n",
        "**A  query customization**    \n",
        "*engine = create_engine('sqlite:///Northwind.sqlite')*  \n",
        " \n",
        "*with engine.connect() as con:*   \n",
        "    *rs = con.execute(\"SELECT OrderID, OrderDate, ShipName FROM Orders\")*   \n",
        "    *df = pd.DataFrame(rs.fetchmany(size=5))*   \n",
        "    *df.columns = rs.keys()*   "
      ]
    },
    {
      "metadata": {
        "id": "GjRYTK_7ZGhf",
        "colab_type": "code",
        "colab": {}
      },
      "cell_type": "code",
      "source": [
        "# Open engine in context manager\n",
        "# Perform query and save results to DataFrame: df\n",
        "with engine.connect() as con:\n",
        "    rs = con.execute(\"SELECT LastName, Title  FROM Employee\")\n",
        "    df = pd.DataFrame(rs.fetchmany(size=3))\n",
        "    df.columns = rs.keys()\n",
        "\n",
        "# Print the length of the DataFrame df\n",
        "print(len(df))\n",
        "\n",
        "# Print the head of the DataFrame df\n",
        "print(df.head())\n",
        "\n"
      ],
      "execution_count": 0,
      "outputs": []
    },
    {
      "metadata": {
        "id": "GrqVmZTYaLL8",
        "colab_type": "text"
      },
      "cell_type": "markdown",
      "source": [
        "**Filtering your database records using SQL's WHERE**\n",
        "\n",
        "You can now execute a basic SQL query to select records from any table in your database and you can also perform simple query customizations to select particular columns and numbers of rows."
      ]
    },
    {
      "metadata": {
        "id": "qkepIkJ0cJZ_",
        "colab_type": "code",
        "colab": {}
      },
      "cell_type": "code",
      "source": [
        "# Create engine: engine\n",
        "engine = create_engine('sqlite:///Chinook.sqlite')\n",
        "\n",
        "# Open engine in context manager\n",
        "# Perform query and save results to DataFrame: df\n",
        "with engine.connect() as con:\n",
        "    rs = con.execute(\"SELECT * FROM Employee WHERE EmployeeId >= 6\")\n",
        "    df = pd.DataFrame(rs.fetchall())\n",
        "    df.columns = rs.keys()\n",
        "\n",
        "# Print the head of the DataFrame df\n",
        "print(df.head())\n"
      ],
      "execution_count": 0,
      "outputs": []
    },
    {
      "metadata": {
        "id": "GlbnhOGlcO4V",
        "colab_type": "text"
      },
      "cell_type": "markdown",
      "source": [
        "**Ordering your SQL records with ORDER BY**\n",
        "\n",
        "You can also order your SQL query results. For example, if you wanted to get all records from the Customer table of the Chinook database and order them in increasing order by the column SupportRepId."
      ]
    },
    {
      "metadata": {
        "id": "3szNByqOcSUU",
        "colab_type": "code",
        "colab": {}
      },
      "cell_type": "code",
      "source": [
        "# Create engine: engine\n",
        "engine = create_engine('sqlite:///Chinook.sqlite')\n",
        "\n",
        "# Open engine in context manager\n",
        "with engine.connect() as con:\n",
        "    rs = con.execute(\"SELECT * FROM Employee ORDER BY BirthDate \")\n",
        "    df = pd.DataFrame(rs.fetchall())\n",
        "    df.columns = rs.keys()\n",
        "\n",
        "    # Set the DataFrame's column names\n",
        "\n",
        "\n",
        "# Print head of DataFrame\n",
        "print(df.head())\n"
      ],
      "execution_count": 0,
      "outputs": []
    },
    {
      "metadata": {
        "id": "M8o_Yf65c0z8",
        "colab_type": "text"
      },
      "cell_type": "markdown",
      "source": [
        "# Querying relational databases directly with pandas"
      ]
    },
    {
      "metadata": {
        "id": "q6cX2gKsc5RS",
        "colab_type": "text"
      },
      "cell_type": "markdown",
      "source": [
        "**Pandas and The Hello World of SQL Queries!**\n",
        "\n",
        "You'll first import pandas and create the SQLite **'Chinook.sqlite' **engine. Then you'll query the database to select all records from the Album table.\n",
        "\n",
        "Recall that to select all records from the Orders table in the Northwind database, Hugo executed the following command:\n",
        "\n",
        "df = pd.read_sql_query(\"SELECT * FROM Orders\", engine) **bold text**"
      ]
    },
    {
      "metadata": {
        "id": "fZjVewhldQyW",
        "colab_type": "code",
        "colab": {}
      },
      "cell_type": "code",
      "source": [
        "# Import packages\n",
        "from sqlalchemy import create_engine\n",
        "import pandas as pd\n",
        "\n",
        "# Create engine: engine\n",
        "engine = create_engine('sqlite:///Chinook.sqlite')\n",
        "\n",
        "# Execute query and store records in DataFrame: df\n",
        "df = pd.read_sql_query(\"SELECT * FROM Album\", engine)\n",
        "\n",
        "# Print head of DataFrame\n",
        "print(df.head())\n",
        "\n",
        "# Open engine in context manager and store query result in df1\n",
        "with engine.connect() as con:\n",
        "    rs = con.execute(\"SELECT * FROM Album\")\n",
        "    df1 = pd.DataFrame(rs.fetchall())\n",
        "    df1.columns = rs.keys()\n",
        "\n",
        "# Confirm that both methods yield the same result\n",
        "print(df.equals(df1))"
      ],
      "execution_count": 0,
      "outputs": []
    },
    {
      "metadata": {
        "id": "IFVV6y3xdvPP",
        "colab_type": "text"
      },
      "cell_type": "markdown",
      "source": [
        "**Pandas for more complex querying**\n",
        "\n",
        "Here, you'll become more familiar with the pandas function **read_sql_query()** by using it to execute a more complex query: a **SELECT **statement followed by both a **WHERE** clause **AND** an **ORDER BY** clause."
      ]
    },
    {
      "metadata": {
        "id": "uhc7WSSyd1iW",
        "colab_type": "code",
        "colab": {}
      },
      "cell_type": "code",
      "source": [
        "# Import packages\n",
        "from sqlalchemy import create_engine\n",
        "import pandas as pd\n",
        "\n",
        "# Create engine: engine\n",
        "engine = create_engine('sqlite:///Chinook.sqlite')\n",
        "\n",
        "# Execute query and store records in DataFrame: df\n",
        "df = pd.read_sql_query(\"SELECT * FROM Employee WHERE EmployeeId >= 6 ORDER BY BirthDate\", engine)\n",
        "\n",
        "# Print head of DataFrame\n",
        "print(df.head())\n"
      ],
      "execution_count": 0,
      "outputs": []
    },
    {
      "metadata": {
        "id": "UUCNDhOAeehH",
        "colab_type": "text"
      },
      "cell_type": "markdown",
      "source": [
        "**Advanced Querying: exploiting table relationships**\n",
        "\n",
        "**The power of SQL lies in relationships between tables: INNER JOIN**\n",
        "\n",
        "Here, you'll perform your first **INNER JOIN!** You'll be working with your favourite SQLite database, Chinook.sqlite. For each record in the Album table, you'll extract the Title along with the Name of the Artist. The latter will come from the Artist table and so you will need to **INNER JOIN **these two tables on the ArtistID column of both.\n",
        "\n",
        "Recall that to INNER JOIN the Orders and Customers tables from the Northwind database, executed the following SQL query:\n",
        "\n",
        "The power of SQL lies in relationships between tables: INNER JOIN\n",
        "Here, you'll perform your first INNER JOIN! You'll be working with your favourite SQLite database, Chinook.sqlite. For each record in the Album table, you'll extract the Title along with the Name of the Artist. The latter will come from the Artist table and so you will need to INNER JOIN these two tables on the ArtistID column of both.\n",
        "\n",
        "Recall that to INNER JOIN the Orders and Customers tables from the Northwind database, Hugo executed the following SQL query:\n",
        "\n",
        "**\"SELECT OrderID, CompanyName FROM Orders INNER JOIN Customers on Orders.CustomerID = Customers.CustomerID\"**"
      ]
    },
    {
      "metadata": {
        "id": "q-oyOTCGfHcE",
        "colab_type": "code",
        "colab": {}
      },
      "cell_type": "code",
      "source": [
        "import pandas as pd\n",
        "from sqlalchemy import create_engine\n",
        "engine = create_engine('sqlite:///Chinook.sqlite')\n",
        "# Open engine in context manager\n",
        "# Perform query and save results to DataFrame: df\n",
        "with engine.connect() as con:\n",
        "    rs = con.execute(\"SELECT Title,Name FROM Album INNER JOIN Artist ON Album.ArtistId=Artist.ArtistId\")\n",
        "    df = pd.DataFrame(rs.fetchall())\n",
        "    df.columns = rs.keys()\n",
        "\n",
        "# Print head of DataFrame df\n",
        "print(df.head())\n"
      ],
      "execution_count": 0,
      "outputs": []
    },
    {
      "metadata": {
        "id": "rGucqnzvf6eq",
        "colab_type": "text"
      },
      "cell_type": "markdown",
      "source": [
        "**Filtering your INNER JOIN**\n",
        "\n",
        "You're now going to finish this chapter with one final exercise in which you perform an INNER JOIN and filter the result using a WHERE clause.\n",
        "\n",
        "Recall that to INNER JOIN the Orders and Customers tables from the Northwind database, Hugo executed the following SQL query:\n",
        "\n",
        "**\"SELECT OrderID, CompanyName FROM Orders INNER JOIN Customers on Orders.CustomerID = Customers.CustomerID\"**"
      ]
    },
    {
      "metadata": {
        "id": "oiB_KyR2gKyb",
        "colab_type": "code",
        "colab": {}
      },
      "cell_type": "code",
      "source": [
        "import pandas as pd\n",
        "from sqlalchemy import create_engine\n",
        "engine = create_engine('sqlite:///Chinook.sqlite')\n",
        "# Execute query and store records in DataFrame: df\n",
        "df = pd.read_sql_query(\"SELECT * FROM PlaylistTrack INNER JOIN Track on PlaylistTrack.TrackId = Track.TrackId  WHERE Milliseconds < 250000\", engine)\n",
        "\n",
        "# Print head of DataFrame\n",
        "print(df.head())"
      ],
      "execution_count": 0,
      "outputs": []
    }
  ]
}