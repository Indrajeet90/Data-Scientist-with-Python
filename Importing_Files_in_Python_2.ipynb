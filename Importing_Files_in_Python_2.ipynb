{
  "nbformat": 4,
  "nbformat_minor": 0,
  "metadata": {
    "colab": {
      "name": "Importing Files in Python 2.ipynb",
      "version": "0.3.2",
      "provenance": [],
      "collapsed_sections": [],
      "include_colab_link": true
    },
    "kernelspec": {
      "name": "python3",
      "display_name": "Python 3"
    }
  },
  "cells": [
    {
      "cell_type": "markdown",
      "metadata": {
        "id": "view-in-github",
        "colab_type": "text"
      },
      "source": [
        "[View in Colaboratory](https://colab.research.google.com/github/Indrajeet90/Data-Scientist-with-Python/blob/master/Importing_Files_in_Python_2.ipynb)"
      ]
    },
    {
      "metadata": {
        "id": "IA3jBomcoLbt",
        "colab_type": "text"
      },
      "cell_type": "markdown",
      "source": [
        "# Importing flat files from the web"
      ]
    },
    {
      "metadata": {
        "id": "d_nY1h8RomFo",
        "colab_type": "text"
      },
      "cell_type": "markdown",
      "source": [
        "You are about to import your first file from the web! The flat file you will import will be** 'winequality-red.csv'** from the University of California, Irvine's **Machine Learning repository**. The flat file contains tabular data of physiochemical properties of red wine, such as pH, alcohol content and citric acid content, along with wine quality rating.\n",
        "The URL of the file is:   \n",
        "'https://s3.amazonaws.com/assets.datacamp.com/production/course_1606/datasets/winequality-red.csv'\n",
        "\n"
      ]
    },
    {
      "metadata": {
        "id": "LPI_xEtkn8jj",
        "colab_type": "code",
        "colab": {
          "base_uri": "https://localhost:8080/",
          "height": 357
        },
        "outputId": "f44b0613-d384-4485-8566-e53a893e1a9c"
      },
      "cell_type": "code",
      "source": [
        "# Import package\n",
        "from urllib.request import urlretrieve\n",
        "\n",
        "# Import pandas\n",
        "import pandas as pd\n",
        "\n",
        "# Assign url of file: url\n",
        "url='https://s3.amazonaws.com/assets.datacamp.com/production/course_1606/datasets/winequality-red.csv'\n",
        "\n",
        "# Save file locally\n",
        "urlretrieve(url,'winequality-red.csv')\n",
        "\n",
        "# Read file into a DataFrame and print its head\n",
        "df = pd.read_csv('winequality-red.csv', sep=';')\n",
        "print(df.head())\n"
      ],
      "execution_count": 1,
      "outputs": [
        {
          "output_type": "stream",
          "text": [
            "   fixed acidity  volatile acidity  citric acid  residual sugar  chlorides  \\\n",
            "0            7.4              0.70         0.00             1.9      0.076   \n",
            "1            7.8              0.88         0.00             2.6      0.098   \n",
            "2            7.8              0.76         0.04             2.3      0.092   \n",
            "3           11.2              0.28         0.56             1.9      0.075   \n",
            "4            7.4              0.70         0.00             1.9      0.076   \n",
            "\n",
            "   free sulfur dioxide  total sulfur dioxide  density    pH  sulphates  \\\n",
            "0                 11.0                  34.0   0.9978  3.51       0.56   \n",
            "1                 25.0                  67.0   0.9968  3.20       0.68   \n",
            "2                 15.0                  54.0   0.9970  3.26       0.65   \n",
            "3                 17.0                  60.0   0.9980  3.16       0.58   \n",
            "4                 11.0                  34.0   0.9978  3.51       0.56   \n",
            "\n",
            "   alcohol  quality  \n",
            "0      9.4        5  \n",
            "1      9.8        5  \n",
            "2      9.8        5  \n",
            "3      9.8        6  \n",
            "4      9.4        5  \n"
          ],
          "name": "stdout"
        }
      ]
    },
    {
      "metadata": {
        "id": "FpwqhSF4puj1",
        "colab_type": "text"
      },
      "cell_type": "markdown",
      "source": [
        "**Opening and reading flat files from the web**\n",
        "\n",
        " If you just wanted to load a file from the web into a DataFrame without first saving it locally, you can do that easily using** pandas.** In particular, you can use the function** pd.read_csv()** with the URL as the first argument and the separator **sep** as the second argument."
      ]
    },
    {
      "metadata": {
        "id": "8AbWMu5mqaHr",
        "colab_type": "code",
        "colab": {
          "base_uri": "https://localhost:8080/",
          "height": 54
        },
        "outputId": "48e0fc50-6279-411a-8b36-c02b8a1b97b7"
      },
      "cell_type": "code",
      "source": [
        "import matplotlib.pyplot as plt\n",
        "print(plt.style.available)\n",
        "plt.style.use('seaborn-whitegrid')"
      ],
      "execution_count": 10,
      "outputs": [
        {
          "output_type": "stream",
          "text": [
            "['bmh', 'seaborn-white', 'seaborn-poster', 'classic', 'seaborn-darkgrid', 'fivethirtyeight', 'seaborn-deep', 'seaborn', 'seaborn-bright', 'grayscale', 'Solarize_Light2', 'seaborn-talk', 'seaborn-muted', 'seaborn-notebook', 'dark_background', 'ggplot', '_classic_test', 'seaborn-paper', 'seaborn-dark', 'seaborn-dark-palette', 'seaborn-whitegrid', 'seaborn-colorblind', 'fast', 'seaborn-ticks', 'seaborn-pastel']\n"
          ],
          "name": "stdout"
        }
      ]
    },
    {
      "metadata": {
        "id": "lqmGwqnmp1_n",
        "colab_type": "code",
        "colab": {
          "base_uri": "https://localhost:8080/",
          "height": 791
        },
        "outputId": "36a39227-b4eb-4663-eb11-82403fa59b12"
      },
      "cell_type": "code",
      "source": [
        "# Import packages\n",
        "import matplotlib.pyplot as plt\n",
        "import pandas as pd\n",
        "\n",
        "# Assign url of file: url\n",
        "url='https://s3.amazonaws.com/assets.datacamp.com/production/course_1606/datasets/winequality-red.csv'\n",
        "\n",
        "# Read file into a DataFrame: df\n",
        "df=pd.read_csv('https://s3.amazonaws.com/assets.datacamp.com/production/course_1606/datasets/winequality-red.csv', sep=';')\n",
        "\n",
        "# Print the head of the DataFrame\n",
        "print(df.head())\n",
        "\n",
        "# Plot first column of df\n",
        "pd.DataFrame.hist(df.ix[:, 0:1])\n",
        "plt.xlabel('fixed acidity (g(tartaric acid)/dm$^3$)')\n",
        "plt.ylabel('count')\n",
        "plt.show()"
      ],
      "execution_count": 14,
      "outputs": [
        {
          "output_type": "stream",
          "text": [
            "   fixed acidity  volatile acidity  citric acid  residual sugar  chlorides  \\\n",
            "0            7.4              0.70         0.00             1.9      0.076   \n",
            "1            7.8              0.88         0.00             2.6      0.098   \n",
            "2            7.8              0.76         0.04             2.3      0.092   \n",
            "3           11.2              0.28         0.56             1.9      0.075   \n",
            "4            7.4              0.70         0.00             1.9      0.076   \n",
            "\n",
            "   free sulfur dioxide  total sulfur dioxide  density    pH  sulphates  \\\n",
            "0                 11.0                  34.0   0.9978  3.51       0.56   \n",
            "1                 25.0                  67.0   0.9968  3.20       0.68   \n",
            "2                 15.0                  54.0   0.9970  3.26       0.65   \n",
            "3                 17.0                  60.0   0.9980  3.16       0.58   \n",
            "4                 11.0                  34.0   0.9978  3.51       0.56   \n",
            "\n",
            "   alcohol  quality  \n",
            "0      9.4        5  \n",
            "1      9.8        5  \n",
            "2      9.8        5  \n",
            "3      9.8        6  \n",
            "4      9.4        5  \n"
          ],
          "name": "stdout"
        },
        {
          "output_type": "stream",
          "text": [
            "/usr/local/lib/python3.6/dist-packages/ipykernel_launcher.py:14: DeprecationWarning: \n",
            ".ix is deprecated. Please use\n",
            ".loc for label based indexing or\n",
            ".iloc for positional indexing\n",
            "\n",
            "See the documentation here:\n",
            "http://pandas.pydata.org/pandas-docs/stable/indexing.html#ix-indexer-is-deprecated\n",
            "  \n"
          ],
          "name": "stderr"
        },
        {
          "output_type": "display_data",
          "data": {
            "image/png": "[encoded data removed]",
            "text/plain": [
              "<matplotlib.figure.Figure at 0x7f41d8eea240>"
            ]
          },
          "metadata": {
            "tags": []
          }
        }
      ]
    },
    {
      "metadata": {
        "id": "IKXnFXa9rFc5",
        "colab_type": "text"
      },
      "cell_type": "markdown",
      "source": [
        "**Importing non-flat files from the web**\n",
        "\n",
        "This function is super cool because it has close relatives that allow you to load all types of files, not only flat ones. In this  exercise, you'll use **pd.read_excel() **to import an Excel spreadsheet.\n",
        "The URL of the spreadsheet is:    \n",
        "'http://s3.amazonaws.com/assets.datacamp.com/course/importing_data_into_r/latitude.xls'"
      ]
    },
    {
      "metadata": {
        "id": "5wKc-f-xsZtM",
        "colab_type": "code",
        "colab": {}
      },
      "cell_type": "code",
      "source": [
        "!pip -q install xlrd"
      ],
      "execution_count": 0,
      "outputs": []
    },
    {
      "metadata": {
        "id": "r25xfsrIsJT_",
        "colab_type": "code",
        "colab": {
          "base_uri": "https://localhost:8080/",
          "height": 170
        },
        "outputId": "f0d07f0b-ed21-4e89-a71e-b3b282ae105f"
      },
      "cell_type": "code",
      "source": [
        "# Import package\n",
        "import pandas as pd\n",
        "\n",
        "# Assign url of file: url\n",
        "url='http://s3.amazonaws.com/assets.datacamp.com/course/importing_data_into_r/latitude.xls'\n",
        "\n",
        "# Read in all sheets of Excel file: xl\n",
        "xl=pd.read_excel(url,sheetname=None)\n",
        "\n",
        "# Print the sheetnames to the shell\n",
        "print(xl.keys())\n",
        "\n",
        "# Print the head of the first sheet (using its name, NOT its index)\n",
        "print(xl['1700'].head())\n"
      ],
      "execution_count": 13,
      "outputs": [
        {
          "output_type": "stream",
          "text": [
            "/usr/local/lib/python3.6/dist-packages/pandas/util/_decorators.py:118: FutureWarning: The `sheetname` keyword is deprecated, use `sheet_name` instead\n",
            "  return func(*args, **kwargs)\n"
          ],
          "name": "stderr"
        },
        {
          "output_type": "stream",
          "text": [
            "odict_keys(['1700', '1900'])\n",
            "                 country       1700\n",
            "0            Afghanistan  34.565000\n",
            "1  Akrotiri and Dhekelia  34.616667\n",
            "2                Albania  41.312000\n",
            "3                Algeria  36.720000\n",
            "4         American Samoa -14.307000\n"
          ],
          "name": "stdout"
        }
      ]
    },
    {
      "metadata": {
        "id": "Wgz9rRAAslMd",
        "colab_type": "text"
      },
      "cell_type": "markdown",
      "source": [
        "# HTTP requests to import files from the web"
      ]
    },
    {
      "metadata": {
        "id": "fvtDEpJStj4b",
        "colab_type": "text"
      },
      "cell_type": "markdown",
      "source": [
        "**Performing HTTP requests in Python using urllib**\n",
        "In this exercise, you will ping our very own DataCamp servers to perform a GET request to extract information from our teach page,    \n",
        "\"http://www.datacamp.com/teach/documentation\"."
      ]
    },
    {
      "metadata": {
        "id": "ixC2U3OSsV-4",
        "colab_type": "code",
        "colab": {
          "base_uri": "https://localhost:8080/",
          "height": 34
        },
        "outputId": "6349d23f-0cd1-45ad-abb3-b4db83d5119d"
      },
      "cell_type": "code",
      "source": [
        "# Import packages\n",
        "from urllib.request import urlopen,Request \n",
        "\n",
        "# Specify the url\n",
        "url = \"http://www.datacamp.com/teach/documentation\"\n",
        "\n",
        "# This packages the request: request\n",
        "request=Request(url)\n",
        "\n",
        "# Sends the request and catches the response: response\n",
        "response=urlopen(request)\n",
        "\n",
        "# Print the datatype of response\n",
        "print(type(response))\n",
        "\n",
        "# Be polite and close the response!\n",
        "response.close()\n"
      ],
      "execution_count": 15,
      "outputs": [
        {
          "output_type": "stream",
          "text": [
            "<class 'http.client.HTTPResponse'>\n"
          ],
          "name": "stdout"
        }
      ]
    },
    {
      "metadata": {
        "id": "2_f5KYxeuYt4",
        "colab_type": "text"
      },
      "cell_type": "markdown",
      "source": [
        "**Printing HTTP request results in Python using urllib**\n",
        "\n",
        "Well, as it came from an HTML page, you could read it to extract the HTML and, in fact, such a **http.client.HTTPResponse** object has an associated **read() **method."
      ]
    },
    {
      "metadata": {
        "id": "l66xHEJ7ulkP",
        "colab_type": "code",
        "colab": {
          "base_uri": "https://localhost:8080/",
          "height": 54
        },
        "outputId": "e704be07-6972-4af1-e1c1-dce647da01e5"
      },
      "cell_type": "code",
      "source": [
        "# Import packages\n",
        "from urllib.request import urlopen, Request\n",
        "\n",
        "# Specify the url\n",
        "url = \"http://www.datacamp.com/teach/documentation\"\n",
        "\n",
        "# This packages the request\n",
        "request = Request(url)\n",
        "\n",
        "# Sends the request and catches the response: response\n",
        "response=urlopen(request)\n",
        "\n",
        "# Extract the response: html\n",
        "html=response.read()\n",
        "\n",
        "# Print the html\n",
        "print(html)\n",
        "\n",
        "# Be polite and close the response!\n",
        "response.close()\n"
      ],
      "execution_count": 16,
      "outputs": [
        {
          "output_type": "stream",
          "text": [
            "b'\\n<!DOCTYPE HTML>\\n<html lang=\"\" >\\n    <head>\\n        <meta charset=\"UTF-8\">\\n        <meta content=\"text/html; charset=utf-8\" http-equiv=\"Content-Type\">\\n        <title>Welcome \\xc2\\xb7 Authoring Content for DataCamp</title>\\n        <meta http-equiv=\"X-UA-Compatible\" content=\"IE=edge\" />\\n        <meta name=\"description\" content=\"\">\\n        <meta name=\"generator\" content=\"GitBook 3.2.3\">\\n        \\n        \\n        \\n    \\n    <link rel=\"stylesheet\" href=\"gitbook/style.css\">\\n\\n    \\n            \\n                \\n                <link rel=\"stylesheet\" href=\"gitbook/gitbook-plugin-bootstrap-callout/plugin.css\">\\n                \\n            \\n                \\n                <link rel=\"stylesheet\" href=\"gitbook/gitbook-plugin-expandable-chapters/expandable-chapters.css\">\\n                \\n            \\n                \\n                <link rel=\"stylesheet\" href=\"gitbook/gitbook-plugin-advanced-emoji/emoji-website.css\">\\n                \\n            \\n                \\n                <link rel=\"stylesheet\" href=\"gitbook/gitbook-plugin-codetabs/codetabs.css\">\\n                \\n            \\n                \\n                <link rel=\"stylesheet\" href=\"gitbook/gitbook-plugin-highlight/website.css\">\\n                \\n            \\n                \\n                <link rel=\"stylesheet\" href=\"gitbook/gitbook-plugin-search/search.css\">\\n                \\n            \\n                \\n                <link rel=\"stylesheet\" href=\"gitbook/gitbook-plugin-fontsettings/website.css\">\\n                \\n            \\n        \\n\\n    \\n\\n    \\n        \\n    \\n        \\n    \\n        \\n    \\n        \\n    \\n        \\n    \\n        \\n    \\n\\n        \\n    \\n    \\n    <meta name=\"HandheldFriendly\" content=\"true\"/>\\n    <meta name=\"viewport\" content=\"width=device-width, initial-scale=1, user-scalable=no\">\\n    <meta name=\"apple-mobile-web-app-capable\" content=\"yes\">\\n    <meta name=\"apple-mobile-web-app-status-bar-style\" content=\"black\">\\n    <link rel=\"apple-touch-icon-precomposed\" sizes=\"152x152\" href=\"gitbook/images/apple-touch-icon-precomposed-152.png\">\\n    <link rel=\"shortcut icon\" href=\"gitbook/images/favicon.ico\" type=\"image/x-icon\">\\n\\n    \\n    <link rel=\"next\" href=\"welcome/getting-started.html\" />\\n    \\n    \\n\\n    </head>\\n    <body>\\n        \\n<div class=\"book\">\\n    <div class=\"book-summary\">\\n        \\n            \\n<div id=\"book-search-input\" role=\"search\">\\n    <input type=\"text\" placeholder=\"Type to search\" />\\n</div>\\n\\n            \\n                <nav role=\"navigation\">\\n                \\n\\n\\n<ul class=\"summary\">\\n    \\n    \\n\\n    \\n\\n    \\n        \\n        <li class=\"header\">Introduction</li>\\n        \\n        \\n    \\n        <li class=\"chapter active\" data-level=\"1.1\" data-path=\"./\">\\n            \\n                <a href=\"./\">\\n            \\n                    \\n                    Welcome\\n            \\n                </a>\\n            \\n\\n            \\n        </li>\\n    \\n        <li class=\"chapter \" data-level=\"1.2\" data-path=\"welcome/getting-started.html\">\\n            \\n                <a href=\"welcome/getting-started.html\">\\n            \\n                    \\n                    Getting Started\\n            \\n                </a>\\n            \\n\\n            \\n        </li>\\n    \\n        <li class=\"chapter \" data-level=\"1.3\" data-path=\"courses/audition.html\">\\n            \\n                <a href=\"courses/audition.html\">\\n            \\n                    \\n                    Creating Your Audition Video\\n            \\n                </a>\\n            \\n\\n            \\n        </li>\\n    \\n\\n    \\n        \\n        <li class=\"header\">Creating Content</li>\\n        \\n        \\n    \\n        <li class=\"chapter \" data-level=\"2.1\" data-path=\"contract.html\">\\n            \\n                <a href=\"contract.html\">\\n            \\n                    \\n                    Our Contract\\n            \\n                </a>\\n            \\n\\n            \\n        </li>\\n    \\n        <li class=\"chapter \" data-level=\"2.2\" data-path=\"courses/\">\\n            \\n                <a href=\"courses/\">\\n            \\n                    \\n                    Courses\\n            \\n                </a>\\n            \\n\\n            \\n            <ul class=\"articles\">\\n                \\n    \\n        <li class=\"chapter \" data-level=\"2.2.1\" data-path=\"courses/repo-structure.html\">\\n            \\n                <a href=\"courses/repo-structure.html\">\\n            \\n                    \\n                    Repo Structure\\n            \\n                </a>\\n            \\n\\n            \\n        </li>\\n    \\n        <li class=\"chapter \" data-level=\"2.2.2\" data-path=\"courses/design/\">\\n            \\n                <a href=\"courses/design/\">\\n            \\n                    \\n                    Design\\n            \\n                </a>\\n            \\n\\n            \\n            <ul class=\"articles\">\\n                \\n    \\n        <li class=\"chapter \" data-level=\"2.2.2.1\" data-path=\"courses/design/template.html\">\\n            \\n                <a href=\"courses/design/template.html\">\\n            \\n                    \\n                    Design template\\n            \\n                </a>\\n            \\n\\n            \\n        </li>\\n    \\n        <li class=\"chapter \" data-level=\"2.2.2.2\" data-path=\"courses/design/examples/\">\\n            \\n                <a href=\"courses/design/examples/\">\\n            \\n                    \\n                    Course Design Examples\\n            \\n                </a>\\n            \\n\\n            \\n            <ul class=\"articles\">\\n                \\n    \\n        <li class=\"chapter \" data-level=\"2.2.2.2.1\" data-path=\"courses/design/examples/dimensionality-reduction.html\">\\n            \\n                <a href=\"courses/design/examples/dimensionality-reduction.html\">\\n            \\n                    \\n                    Dimensionality Reduction\\n            \\n                </a>\\n            \\n\\n            \\n        </li>\\n    \\n        <li class=\"chapter \" data-level=\"2.2.2.2.2\" data-path=\"courses/design/examples/image-segmentation.html\">\\n            \\n                <a href=\"courses/design/examples/image-segmentation.html\">\\n            \\n                    \\n                    Image Segmentation with Python\\n            \\n                </a>\\n            \\n\\n            \\n        </li>\\n    \\n        <li class=\"chapter \" data-level=\"2.2.2.2.3\" data-path=\"courses/design/examples/stochastic-processes.html\">\\n            \\n                <a href=\"courses/design/examples/stochastic-processes.html\">\\n            \\n                    \\n                    Stochastic Processes in R\\n            \\n                </a>\\n            \\n\\n            \\n        </li>\\n    \\n\\n            </ul>\\n            \\n        </li>\\n    \\n        <li class=\"chapter \" data-level=\"2.2.2.3\" data-path=\"courses/design/technical-help-resources.html\">\\n            \\n                <a href=\"courses/design/technical-help-resources.html\">\\n            \\n                    \\n                    Technical Help Resources\\n            \\n                </a>\\n            \\n\\n            \\n        </li>\\n    \\n        <li class=\"chapter \" data-level=\"2.2.2.4\" data-path=\"courses/design/brainstorming-problems.html\">\\n            \\n                <a href=\"courses/design/brainstorming-problems.html\">\\n            \\n                    \\n                    Step 1.1 Brainstorming Problems\\n            \\n                </a>\\n            \\n\\n            \\n        </li>\\n    \\n        <li class=\"chapter \" data-level=\"2.2.2.5\" data-path=\"courses/design/brainstorming-concepts.html\">\\n            \\n                <a href=\"courses/design/brainstorming-concepts.html\">\\n            \\n                    \\n                    Step 1.2 Brainstorming Concepts\\n            \\n                </a>\\n            \\n\\n            \\n        </li>\\n    \\n        <li class=\"chapter \" data-level=\"2.2.2.6\" data-path=\"courses/design/brainstorming-technologies.html\">\\n            \\n                <a href=\"courses/design/brainstorming-technologies.html\">\\n            \\n                    \\n                    Step 1.3 Brainstorming Technologies\\n            \\n                </a>\\n            \\n\\n            \\n        </li>\\n    \\n        <li class=\"chapter \" data-level=\"2.2.2.7\" data-path=\"courses/design/brainstorming-jargon.html\">\\n            \\n                <a href=\"courses/design/brainstorming-jargon.html\">\\n            \\n                    \\n                    Step 1.4 Brainstorming Jargon\\n            \\n                </a>\\n            \\n\\n            \\n        </li>\\n    \\n        <li class=\"chapter \" data-level=\"2.2.2.8\" data-path=\"courses/design/brainstorming-analogies.html\">\\n            \\n                <a href=\"courses/design/brainstorming-analogies.html\">\\n            \\n                    \\n                    Step 1.5 Brainstorming Analogies\\n            \\n                </a>\\n            \\n\\n            \\n        </li>\\n    \\n        <li class=\"chapter \" data-level=\"2.2.2.9\" data-path=\"courses/design/brainstorming-mistakes.html\">\\n            \\n                <a href=\"courses/design/brainstorming-mistakes.html\">\\n            \\n                    \\n                    Step 1.6 Brainstorming Mistakes\\n            \\n                </a>\\n            \\n\\n            \\n        </li>\\n    \\n        <li class=\"chapter \" data-level=\"2.2.2.10\" data-path=\"courses/design/brainstorming-datasets.html\">\\n            \\n                <a href=\"courses/design/brainstorming-datasets.html\">\\n            \\n                    \\n                    Step 1.7 Brainstorming Datasets\\n            \\n                </a>\\n            \\n\\n            \\n        </li>\\n    \\n        <li class=\"chapter \" data-level=\"2.2.2.11\" data-path=\"courses/design/personas.html\">\\n            \\n                <a href=\"courses/design/personas.html\">\\n            \\n                    \\n                    Learner Personas\\n            \\n                </a>\\n            \\n\\n            \\n        </li>\\n    \\n        <li class=\"chapter \" data-level=\"2.2.2.12\" data-path=\"courses/design/choose-learner-personas.html\">\\n            \\n                <a href=\"courses/design/choose-learner-personas.html\">\\n            \\n                    \\n                    Step 2 Choose Learner Personas\\n            \\n                </a>\\n            \\n\\n            \\n        </li>\\n    \\n        <li class=\"chapter \" data-level=\"2.2.2.13\" data-path=\"courses/design/exercises-capstone.html\">\\n            \\n                <a href=\"courses/design/exercises-capstone.html\">\\n            \\n                    \\n                    Step 3.1 Capstone Exercises\\n            \\n                </a>\\n            \\n\\n            \\n        </li>\\n    \\n        <li class=\"chapter \" data-level=\"2.2.2.14\" data-path=\"courses/design/exercises-examples.html\">\\n            \\n                <a href=\"courses/design/exercises-examples.html\">\\n            \\n                    \\n                    Step 3.2 Example Exercises\\n            \\n                </a>\\n            \\n\\n            \\n        </li>\\n    \\n        <li class=\"chapter \" data-level=\"2.2.2.15\" data-path=\"courses/design/lesson-flow.html\">\\n            \\n                <a href=\"courses/design/lesson-flow.html\">\\n            \\n                    \\n                    Step 4 Lesson Flow\\n            \\n                </a>\\n            \\n\\n            \\n        </li>\\n    \\n        <li class=\"chapter \" data-level=\"2.2.2.16\" data-path=\"courses/design/overview-description.html\">\\n            \\n                <a href=\"courses/design/overview-description.html\">\\n            \\n                    \\n                    Step 5.1 Course Description\\n            \\n                </a>\\n            \\n\\n            \\n        </li>\\n    \\n        <li class=\"chapter \" data-level=\"2.2.2.17\" data-path=\"courses/design/overview-objectives.html\">\\n            \\n                <a href=\"courses/design/overview-objectives.html\">\\n            \\n                    \\n                    Step 5.2 Learning Objectives\\n            \\n                </a>\\n            \\n\\n            \\n        </li>\\n    \\n        <li class=\"chapter \" data-level=\"2.2.2.18\" data-path=\"courses/design/overview-prerequisites.html\">\\n            \\n                <a href=\"courses/design/overview-prerequisites.html\">\\n            \\n                    \\n                    Step 5.3 Prerequisites\\n            \\n                </a>\\n            \\n\\n            \\n        </li>\\n    \\n\\n            </ul>\\n            \\n        </li>\\n    \\n        <li class=\"chapter \" data-level=\"2.2.3\" data-path=\"courses/exercises/\">\\n            \\n                <a href=\"courses/exercises/\">\\n            \\n                    \\n                    Writing Exercises\\n            \\n                </a>\\n            \\n\\n            \\n            <ul class=\"articles\">\\n                \\n    \\n        <li class=\"chapter \" data-level=\"2.2.3.1\" data-path=\"courses/exercises/all-exercise-types/\">\\n            \\n                <a href=\"courses/exercises/all-exercise-types/\">\\n            \\n                    \\n                    Ideas for All Exercise Types\\n            \\n                </a>\\n            \\n\\n            \\n            <ul class=\"articles\">\\n                \\n    \\n        <li class=\"chapter \" data-level=\"2.2.3.1.1\" data-path=\"courses/exercises/all-exercise-types/learning-objective.html\">\\n            \\n                <a href=\"courses/exercises/all-exercise-types/learning-objective.html\">\\n            \\n                    \\n                    Learning Objective\\n            \\n                </a>\\n            \\n\\n            \\n        </li>\\n    \\n        <li class=\"chapter \" data-level=\"2.2.3.1.2\" data-path=\"courses/exercises/all-exercise-types/title.html\">\\n            \\n                <a href=\"courses/exercises/all-exercise-types/title.html\">\\n            \\n                    \\n                    Title\\n            \\n                </a>\\n            \\n\\n            \\n        </li>\\n    \\n        <li class=\"chapter \" data-level=\"2.2.3.1.3\" data-path=\"courses/exercises/all-exercise-types/hints.html\">\\n            \\n                <a href=\"courses/exercises/all-exercise-types/hints.html\">\\n            \\n                    \\n                    Hints\\n            \\n                </a>\\n            \\n\\n            \\n        </li>\\n    \\n        <li class=\"chapter \" data-level=\"2.2.3.1.4\" data-path=\"courses/exercises/all-exercise-types/success-message.html\">\\n            \\n                <a href=\"courses/exercises/all-exercise-types/success-message.html\">\\n            \\n                    \\n                    Success Message\\n            \\n                </a>\\n            \\n\\n            \\n        </li>\\n    \\n\\n            </ul>\\n            \\n        </li>\\n    \\n        <li class=\"chapter \" data-level=\"2.2.3.2\" data-path=\"courses/exercises/video-exercises/\">\\n            \\n                <a href=\"courses/exercises/video-exercises/\">\\n            \\n                    \\n                    Video Exercise\\n            \\n                </a>\\n            \\n\\n            \\n            <ul class=\"articles\">\\n                \\n    \\n        <li class=\"chapter \" data-level=\"2.2.3.2.1\" data-path=\"courses/exercises/video-exercises/scripts.html\">\\n            \\n                <a href=\"courses/exercises/video-exercises/scripts.html\">\\n            \\n                    \\n                    Scripts\\n            \\n                </a>\\n            \\n\\n            \\n        </li>\\n    \\n        <li class=\"chapter \" data-level=\"2.2.3.2.2\" data-path=\"courses/exercises/video-exercises/slides.html\">\\n            \\n                <a href=\"courses/exercises/video-exercises/slides.html\">\\n            \\n                    \\n                    Slides\\n            \\n                </a>\\n            \\n\\n            \\n        </li>\\n    \\n        <li class=\"chapter \" data-level=\"2.2.3.2.3\" data-path=\"courses/exercises/video-exercises/review-rubric.html\">\\n            \\n                <a href=\"courses/exercises/video-exercises/review-rubric.html\">\\n            \\n                    \\n                    Review Rubric\\n            \\n                </a>\\n            \\n\\n            \\n        </li>\\n    \\n        <li class=\"chapter \" data-level=\"2.2.3.2.4\" data-path=\"courses/exercises/video-exercises/creating-slides.html\">\\n            \\n                <a href=\"courses/exercises/video-exercises/creating-slides.html\">\\n            \\n                    \\n                    Creating Slides\\n            \\n                </a>\\n            \\n\\n            \\n        </li>\\n    \\n\\n            </ul>\\n            \\n        </li>\\n    \\n        <li class=\"chapter \" data-level=\"2.2.3.3\" data-path=\"courses/exercises/normal-exercises/\">\\n            \\n                <a href=\"courses/exercises/normal-exercises/\">\\n            \\n                    \\n                    Normal Exercise\\n            \\n                </a>\\n            \\n\\n            \\n            <ul class=\"articles\">\\n                \\n    \\n        <li class=\"chapter \" data-level=\"2.2.3.3.1\" data-path=\"courses/exercises/normal-exercises/assignment-text.html\">\\n            \\n                <a href=\"courses/exercises/normal-exercises/assignment-text.html\">\\n            \\n                    \\n                    Assignment text\\n            \\n                </a>\\n            \\n\\n            \\n        </li>\\n    \\n        <li class=\"chapter \" data-level=\"2.2.3.3.2\" data-path=\"courses/exercises/normal-exercises/instructions.html\">\\n            \\n                <a href=\"courses/exercises/normal-exercises/instructions.html\">\\n            \\n                    \\n                    Instructions\\n            \\n                </a>\\n            \\n\\n            \\n        </li>\\n    \\n        <li class=\"chapter \" data-level=\"2.2.3.3.3\" data-path=\"courses/exercises/normal-exercises/code.html\">\\n            \\n                <a href=\"courses/exercises/normal-exercises/code.html\">\\n            \\n                    \\n                    Code\\n            \\n                </a>\\n            \\n\\n            \\n        </li>\\n    \\n        <li class=\"chapter \" data-level=\"2.2.3.3.4\" data-path=\"courses/exercises/normal-exercises/review-rubric.html\">\\n            \\n                <a href=\"courses/exercises/normal-exercises/review-rubric.html\">\\n            \\n                    \\n                    Review Rubric\\n            \\n                </a>\\n            \\n\\n            \\n        </li>\\n    \\n\\n            </ul>\\n            \\n        </li>\\n    \\n        <li class=\"chapter \" data-level=\"2.2.3.4\" data-path=\"courses/exercises/multiple-choice-exercises/\">\\n            \\n                <a href=\"courses/exercises/multiple-choice-exercises/\">\\n            \\n                    \\n                    Multiple Choice Exercise\\n            \\n                </a>\\n            \\n\\n            \\n            <ul class=\"articles\">\\n                \\n    \\n        <li class=\"chapter \" data-level=\"2.2.3.4.1\" data-path=\"courses/exercises/multiple-choice-exercises/questions.html\">\\n            \\n                <a href=\"courses/exercises/multiple-choice-exercises/questions.html\">\\n            \\n                    \\n                    Questions\\n            \\n                </a>\\n            \\n\\n            \\n        </li>\\n    \\n        <li class=\"chapter \" data-level=\"2.2.3.4.2\" data-path=\"courses/exercises/multiple-choice-exercises/responses.html\">\\n            \\n                <a href=\"courses/exercises/multiple-choice-exercises/responses.html\">\\n            \\n                    \\n                    Responses\\n            \\n                </a>\\n            \\n\\n            \\n        </li>\\n    \\n        <li class=\"chapter \" data-level=\"2.2.3.4.3\" data-path=\"courses/exercises/multiple-choice-exercises/review-rubric.html\">\\n            \\n                <a href=\"courses/exercises/multiple-choice-exercises/review-rubric.html\">\\n            \\n                    \\n                    Review Rubric\\n            \\n                </a>\\n            \\n\\n            \\n        </li>\\n    \\n\\n            </ul>\\n            \\n        </li>\\n    \\n        <li class=\"chapter \" data-level=\"2.2.3.5\" data-path=\"courses/exercises/tab-exercise.html\">\\n            \\n                <a href=\"courses/exercises/tab-exercise.html\">\\n            \\n                    \\n                    Tab Exercise\\n            \\n                </a>\\n            \\n\\n            \\n            <ul class=\"articles\">\\n                \\n    \\n        <li class=\"chapter \" data-level=\"2.2.3.5.1\" data-path=\"courses/exercises/examples/md/sql/TabExercise.html\">\\n            \\n                <a href=\"courses/exercises/examples/md/sql/TabExercise.html\">\\n            \\n                    \\n                    SQL Example\\n            \\n                </a>\\n            \\n\\n            \\n        </li>\\n    \\n        <li class=\"chapter \" data-level=\"2.2.3.5.2\" data-path=\"courses/exercises/examples/md/r/TabExercise.html\">\\n            \\n                <a href=\"courses/exercises/examples/md/r/TabExercise.html\">\\n            \\n                    \\n                    R Example\\n            \\n                </a>\\n            \\n\\n            \\n        </li>\\n    \\n        <li class=\"chapter \" data-level=\"2.2.3.5.3\" data-path=\"courses/exercises/examples/md/python/TabExercise.html\">\\n            \\n                <a href=\"courses/exercises/examples/md/python/TabExercise.html\">\\n            \\n                    \\n                    Python Example\\n            \\n                </a>\\n            \\n\\n            \\n        </li>\\n    \\n\\n            </ul>\\n            \\n        </li>\\n    \\n        <li class=\"chapter \" data-level=\"2.2.3.6\" data-path=\"courses/exercises/bullet-exercise.html\">\\n            \\n                <a href=\"courses/exercises/bullet-exercise.html\">\\n            \\n                    \\n                    Bullet Exercise\\n            \\n                </a>\\n            \\n\\n            \\n            <ul class=\"articles\">\\n                \\n    \\n        <li class=\"chapter \" data-level=\"2.2.3.6.1\" data-path=\"courses/exercises/examples/md/sql/BulletExercise.html\">\\n            \\n                <a href=\"courses/exercises/examples/md/sql/BulletExercise.html\">\\n            \\n                    \\n                    SQL Example\\n            \\n                </a>\\n            \\n\\n            \\n        </li>\\n    \\n        <li class=\"chapter \" data-level=\"2.2.3.6.2\" data-path=\"courses/exercises/examples/md/r/BulletExercise.html\">\\n            \\n                <a href=\"courses/exercises/examples/md/r/BulletExercise.html\">\\n            \\n                    \\n                    R Example\\n            \\n                </a>\\n            \\n\\n            \\n        </li>\\n    \\n        <li class=\"chapter \" data-level=\"2.2.3.6.3\" data-path=\"courses/exercises/examples/md/python/BulletExercise.html\">\\n            \\n                <a href=\"courses/exercises/examples/md/python/BulletExercise.html\">\\n            \\n                    \\n                    Python Example\\n            \\n                </a>\\n            \\n\\n            \\n        </li>\\n    \\n\\n            </ul>\\n            \\n        </li>\\n    \\n        <li class=\"chapter \" data-level=\"2.2.3.7\" data-path=\"courses/guidelines/\">\\n            \\n                <a href=\"courses/guidelines/\">\\n            \\n                    \\n                    Exercise Guidelines\\n            \\n                </a>\\n            \\n\\n            \\n            <ul class=\"articles\">\\n                \\n    \\n        <li class=\"chapter \" data-level=\"2.2.3.7.1\" data-path=\"courses/guidelines/course-naming.html\">\\n            \\n                <a href=\"courses/guidelines/course-naming.html\">\\n            \\n                    \\n                    Course Naming Rules\\n            \\n                </a>\\n            \\n\\n            \\n        </li>\\n    \\n        <li class=\"chapter \" data-level=\"2.2.3.7.2\" data-path=\"courses/guidelines/content.html\">\\n            \\n                <a href=\"courses/guidelines/content.html\">\\n            \\n                    \\n                    Course Content\\n            \\n                </a>\\n            \\n\\n            \\n        </li>\\n    \\n        <li class=\"chapter \" data-level=\"2.2.3.7.3\" data-path=\"courses/guidelines/style.html\">\\n            \\n                <a href=\"courses/guidelines/style.html\">\\n            \\n                    \\n                    Course Style\\n            \\n                </a>\\n            \\n\\n            \\n        </li>\\n    \\n        <li class=\"chapter \" data-level=\"2.2.3.7.4\" data-path=\"courses/guidelines/tab-vs-bullet-exercises.html\">\\n            \\n                <a href=\"courses/guidelines/tab-vs-bullet-exercises.html\">\\n            \\n                    \\n                    Tab vs. Bullet Exercises\\n            \\n                </a>\\n            \\n\\n            \\n        </li>\\n    \\n        <li class=\"chapter \" data-level=\"2.2.3.7.5\" data-path=\"courses/guidelines/exercise-critique-r.html\">\\n            \\n                <a href=\"courses/guidelines/exercise-critique-r.html\">\\n            \\n                    \\n                    Exercise Critique: R\\n            \\n                </a>\\n            \\n\\n            \\n        </li>\\n    \\n        <li class=\"chapter \" data-level=\"2.2.3.7.6\" data-path=\"courses/guidelines/exercise-critique-python.html\">\\n            \\n                <a href=\"courses/guidelines/exercise-critique-python.html\">\\n            \\n                    \\n                    Exercise Critique: Python\\n            \\n                </a>\\n            \\n\\n            \\n        </li>\\n    \\n\\n            </ul>\\n            \\n        </li>\\n    \\n        <li class=\"chapter \" data-level=\"2.2.3.8\" data-path=\"courses/exercises/technical-details/\">\\n            \\n                <a href=\"courses/exercises/technical-details/\">\\n            \\n                    \\n                    Technical Details\\n            \\n                </a>\\n            \\n\\n            \\n            <ul class=\"articles\">\\n                \\n    \\n        <li class=\"chapter \" data-level=\"2.2.3.8.1\" data-path=\"courses/exercises/technical-details/sct.html\">\\n            \\n                <a href=\"courses/exercises/technical-details/sct.html\">\\n            \\n                    \\n                    Submission Correctness Tests\\n            \\n                </a>\\n            \\n\\n            \\n        </li>\\n    \\n        <li class=\"chapter \" data-level=\"2.2.3.8.2\" data-path=\"courses/exercises/technical-details/xp.html\">\\n            \\n                <a href=\"courses/exercises/technical-details/xp.html\">\\n            \\n                    \\n                    Experience Points (XP)\\n            \\n                </a>\\n            \\n\\n            \\n        </li>\\n    \\n        <li class=\"chapter \" data-level=\"2.2.3.8.3\" data-path=\"courses/exercises/technical-details/unified-authoring-api.html\">\\n            \\n                <a href=\"courses/exercises/technical-details/unified-authoring-api.html\">\\n            \\n                    \\n                    Unified Authoring API\\n            \\n                </a>\\n            \\n\\n            \\n        </li>\\n    \\n        <li class=\"chapter \" data-level=\"2.2.3.8.4\" data-path=\"courses/exercises/technical-details/exercise-headers.html\">\\n            \\n                <a href=\"courses/exercises/technical-details/exercise-headers.html\">\\n            \\n                    \\n                    Exercise Headers\\n            \\n                </a>\\n            \\n\\n            \\n        </li>\\n    \\n        <li class=\"chapter \" data-level=\"2.2.3.8.5\" data-path=\"courses/exercises/technical-details/exercise-blocks.html\">\\n            \\n                <a href=\"courses/exercises/technical-details/exercise-blocks.html\">\\n            \\n                    \\n                    Exercise Blocks\\n            \\n                </a>\\n            \\n\\n            \\n        </li>\\n    \\n        <li class=\"chapter \" data-level=\"2.2.3.8.6\" data-path=\"courses/exercises/technical-details/unified-authoring-api.html\">\\n            \\n                <a href=\"courses/exercises/technical-details/unified-authoring-api.html\">\\n            \\n                    \\n                    Unified Authoring API\\n            \\n                </a>\\n            \\n\\n            \\n        </li>\\n    \\n\\n            </ul>\\n            \\n        </li>\\n    \\n\\n            </ul>\\n            \\n        </li>\\n    \\n        <li class=\"chapter \" data-level=\"2.2.4\" data-path=\"premium-course-process.html\">\\n            \\n                <a href=\"premium-course-process.html\">\\n            \\n                    \\n                    Development Process\\n            \\n                </a>\\n            \\n\\n            \\n            <ul class=\"articles\">\\n                \\n    \\n        <li class=\"chapter \" data-level=\"2.2.4.1\" data-path=\"premium-course-process.html\">\\n            \\n                <a href=\"premium-course-process.html#course-specs\">\\n            \\n                    \\n                    Course specs\\n            \\n                </a>\\n            \\n\\n            \\n        </li>\\n    \\n        <li class=\"chapter \" data-level=\"2.2.4.2\" data-path=\"premium-course-process.html\">\\n            \\n                <a href=\"premium-course-process.html#exercises\">\\n            \\n                    \\n                    Exercises\\n            \\n                </a>\\n            \\n\\n            \\n        </li>\\n    \\n        <li class=\"chapter \" data-level=\"2.2.4.3\" data-path=\"premium-course-process.html\">\\n            \\n                <a href=\"premium-course-process.html#slides-scripts\">\\n            \\n                    \\n                    Slides and Scripts\\n            \\n                </a>\\n            \\n\\n            \\n        </li>\\n    \\n        <li class=\"chapter \" data-level=\"2.2.4.4\" data-path=\"premium-course-process.html\">\\n            \\n                <a href=\"premium-course-process.html#screencasts\">\\n            \\n                    \\n                    Screencasts\\n            \\n                </a>\\n            \\n\\n            \\n        </li>\\n    \\n        <li class=\"chapter \" data-level=\"2.2.4.5\" data-path=\"premium-course-process.html\">\\n            \\n                <a href=\"premium-course-process.html#videos\">\\n            \\n                    \\n                    Videos\\n            \\n                </a>\\n            \\n\\n            \\n        </li>\\n    \\n        <li class=\"chapter \" data-level=\"2.2.4.6\" data-path=\"premium-course-process.html\">\\n            \\n                <a href=\"premium-course-process.html#review-release\">\\n            \\n                    \\n                    Review and release\\n            \\n                </a>\\n            \\n\\n            \\n        </li>\\n    \\n        <li class=\"chapter \" data-level=\"2.2.4.7\" data-path=\"premium-course-process.html\">\\n            \\n                <a href=\"premium-course-process.html#monitor-maintain\">\\n            \\n                    \\n                    Monitor and Maintain\\n            \\n                </a>\\n            \\n\\n            \\n        </li>\\n    \\n\\n            </ul>\\n            \\n        </li>\\n    \\n        <li class=\"chapter \" data-level=\"2.2.5\" data-path=\"courses/assets.html\">\\n            \\n                <a href=\"courses/assets.html\">\\n            \\n                    \\n                    Assets: Images & Datasets\\n            \\n                </a>\\n            \\n\\n            \\n        </li>\\n    \\n        <li class=\"chapter \" data-level=\"2.2.6\" data-path=\"courses/exports.html\">\\n            \\n                <a href=\"courses/exports.html\">\\n            \\n                    \\n                    Course Exports\\n            \\n                </a>\\n            \\n\\n            \\n        </li>\\n    \\n        <li class=\"chapter \" data-level=\"2.2.7\" data-path=\"courses/spreadsheets/\">\\n            \\n                <a href=\"courses/spreadsheets/\">\\n            \\n                    \\n                    Spreadsheets\\n            \\n                </a>\\n            \\n\\n            \\n            <ul class=\"articles\">\\n                \\n    \\n        <li class=\"chapter \" data-level=\"2.2.7.1\" data-path=\"courses/spreadsheets/technology.html\">\\n            \\n                <a href=\"courses/spreadsheets/technology.html\">\\n            \\n                    \\n                    Technology\\n            \\n                </a>\\n            \\n\\n            \\n        </li>\\n    \\n        <li class=\"chapter \" data-level=\"2.2.7.2\" data-path=\"courses/spreadsheets/course-structure.html\">\\n            \\n                <a href=\"courses/spreadsheets/course-structure.html\">\\n            \\n                    \\n                    Course Structure\\n            \\n                </a>\\n            \\n\\n            \\n        </li>\\n    \\n        <li class=\"chapter \" data-level=\"2.2.7.3\" data-path=\"courses/spreadsheets/courses-and-chapters.html\">\\n            \\n                <a href=\"courses/spreadsheets/courses-and-chapters.html\">\\n            \\n                    \\n                    Courses and chapters\\n            \\n                </a>\\n            \\n\\n            \\n        </li>\\n    \\n        <li class=\"chapter \" data-level=\"2.2.7.4\" data-path=\"courses/spreadsheets/workbooks.html\">\\n            \\n                <a href=\"courses/spreadsheets/workbooks.html\">\\n            \\n                    \\n                    Workbooks\\n            \\n                </a>\\n            \\n\\n            \\n        </li>\\n    \\n        <li class=\"chapter \" data-level=\"2.2.7.5\" data-path=\"courses/spreadsheets/exercises.html\">\\n            \\n                <a href=\"courses/spreadsheets/exercises.html\">\\n            \\n                    \\n                    Exercises\\n            \\n                </a>\\n            \\n\\n            \\n            <ul class=\"articles\">\\n                \\n    \\n        <li class=\"chapter \" data-level=\"2.2.7.5.1\" data-path=\"courses/spreadsheets/exercises/general.html\">\\n            \\n                <a href=\"courses/spreadsheets/exercises/general.html\">\\n            \\n                    \\n                    General\\n            \\n                </a>\\n            \\n\\n            \\n        </li>\\n    \\n        <li class=\"chapter \" data-level=\"2.2.7.5.2\" data-path=\"courses/spreadsheets/exercises/meta.html\">\\n            \\n                <a href=\"courses/spreadsheets/exercises/meta.html\">\\n            \\n                    \\n                    Meta Sheet\\n            \\n                </a>\\n            \\n\\n            \\n        </li>\\n    \\n        <li class=\"chapter \" data-level=\"2.2.7.5.3\" data-path=\"courses/spreadsheets/exercises/solution.html\">\\n            \\n                <a href=\"courses/spreadsheets/exercises/solution.html\">\\n            \\n                    \\n                    Solution Sheet\\n            \\n                </a>\\n            \\n\\n            \\n        </li>\\n    \\n        <li class=\"chapter \" data-level=\"2.2.7.5.4\" data-path=\"courses/spreadsheets/exercises/sample.html\">\\n            \\n                <a href=\"courses/spreadsheets/exercises/sample.html\">\\n            \\n                    \\n                    Sample Sheet\\n            \\n                </a>\\n            \\n\\n            \\n        </li>\\n    \\n        <li class=\"chapter \" data-level=\"2.2.7.5.5\" data-path=\"courses/spreadsheets/exercises/sct.html\">\\n            \\n                <a href=\"courses/spreadsheets/exercises/sct.html\">\\n            \\n                    \\n                    SCT Sheet\\n            \\n                </a>\\n            \\n\\n            \\n        </li>\\n    \\n        <li class=\"chapter \" data-level=\"2.2.7.5.6\" data-path=\"courses/spreadsheets/exercises/content-guidelines.html\">\\n            \\n                <a href=\"courses/spreadsheets/exercises/content-guidelines.html\">\\n            \\n                    \\n                    Content guidelines\\n            \\n                </a>\\n            \\n\\n            \\n        </li>\\n    \\n\\n            </ul>\\n            \\n        </li>\\n    \\n        <li class=\"chapter \" data-level=\"2.2.7.6\" data-path=\"courses/spreadsheets/other_exercises.html\">\\n            \\n                <a href=\"courses/spreadsheets/other_exercises.html\">\\n            \\n                    \\n                    Other Exercises\\n            \\n                </a>\\n            \\n\\n            \\n            <ul class=\"articles\">\\n                \\n    \\n        <li class=\"chapter \" data-level=\"2.2.7.6.1\" data-path=\"courses/spreadsheets/other_exercises/video.html\">\\n            \\n                <a href=\"courses/spreadsheets/other_exercises/video.html\">\\n            \\n                    \\n                    Video Exercises\\n            \\n                </a>\\n            \\n\\n            \\n        </li>\\n    \\n        <li class=\"chapter \" data-level=\"2.2.7.6.2\" data-path=\"courses/spreadsheets/other_exercises/pure-multiple-choice.html\">\\n            \\n                <a href=\"courses/spreadsheets/other_exercises/pure-multiple-choice.html\">\\n            \\n                    \\n                    Pure Multiple Choice Exercises\\n            \\n                </a>\\n            \\n\\n            \\n        </li>\\n    \\n        <li class=\"chapter \" data-level=\"2.2.7.6.3\" data-path=\"courses/spreadsheets/other_exercises/multiple-choice.html\">\\n            \\n                <a href=\"courses/spreadsheets/other_exercises/multiple-choice.html\">\\n            \\n                    \\n                    Multiple Choice Exercises\\n            \\n                </a>\\n            \\n\\n            \\n        </li>\\n    \\n\\n            </ul>\\n            \\n        </li>\\n    \\n        <li class=\"chapter \" data-level=\"2.2.7.7\" data-path=\"courses/spreadsheets/limitations.html\">\\n            \\n                <a href=\"courses/spreadsheets/limitations.html\">\\n            \\n                    \\n                    Limitations\\n            \\n                </a>\\n            \\n\\n            \\n        </li>\\n    \\n\\n            </ul>\\n            \\n        </li>\\n    \\n        <li class=\"chapter \" data-level=\"2.2.8\" data-path=\"faq/\">\\n            \\n                <a href=\"faq/\">\\n            \\n                    \\n                    FAQ\\n            \\n                </a>\\n            \\n\\n            \\n        </li>\\n    \\n\\n            </ul>\\n            \\n        </li>\\n    \\n        <li class=\"chapter \" data-level=\"2.3\" data-path=\"challenges/\">\\n            \\n                <a href=\"challenges/\">\\n            \\n                    \\n                    Challenges\\n            \\n                </a>\\n            \\n\\n            \\n            <ul class=\"articles\">\\n                \\n    \\n        <li class=\"chapter \" data-level=\"2.3.1\" data-path=\"challenges/repo-structure.html\">\\n            \\n                <a href=\"challenges/repo-structure.html\">\\n            \\n                    \\n                    Repo Structure\\n            \\n                </a>\\n            \\n\\n            \\n        </li>\\n    \\n        <li class=\"chapter \" data-level=\"2.3.2\" data-path=\"challenges/content/\">\\n            \\n                <a href=\"challenges/content/\">\\n            \\n                    \\n                    Content\\n            \\n                </a>\\n            \\n\\n            \\n            <ul class=\"articles\">\\n                \\n    \\n        <li class=\"chapter \" data-level=\"2.3.2.1\" data-path=\"challenges/content/output-challenge.html\">\\n            \\n                <a href=\"challenges/content/output-challenge.html\">\\n            \\n                    \\n                    Output Challenge\\n            \\n                </a>\\n            \\n\\n            \\n        </li>\\n    \\n        <li class=\"chapter \" data-level=\"2.3.2.2\" data-path=\"challenges/content/multiple-choice-challenge.html\">\\n            \\n                <a href=\"challenges/content/multiple-choice-challenge.html\">\\n            \\n                    \\n                    Multiple Choice Challenge\\n            \\n                </a>\\n            \\n\\n            \\n        </li>\\n    \\n        <li class=\"chapter \" data-level=\"2.3.2.3\" data-path=\"challenges/content/blanks-challenge.html\">\\n            \\n                <a href=\"challenges/content/blanks-challenge.html\">\\n            \\n                    \\n                    Blanks Challenge\\n            \\n                </a>\\n            \\n\\n            \\n        </li>\\n    \\n\\n            </ul>\\n            \\n        </li>\\n    \\n        <li class=\"chapter \" data-level=\"2.3.3\" data-path=\"challenges/review-mode.html\">\\n            \\n                <a href=\"challenges/review-mode.html\">\\n            \\n                    \\n                    Review Mode\\n            \\n                </a>\\n            \\n\\n            \\n        </li>\\n    \\n        <li class=\"chapter \" data-level=\"2.3.4\" data-path=\"challenges/guidelines/\">\\n            \\n                <a href=\"challenges/guidelines/\">\\n            \\n                    \\n                    Guidelines\\n            \\n                </a>\\n            \\n\\n            \\n            <ul class=\"articles\">\\n                \\n    \\n        <li class=\"chapter \" data-level=\"2.3.4.1\" data-path=\"challenges/guidelines/content.html\">\\n            \\n                <a href=\"challenges/guidelines/content.html\">\\n            \\n                    \\n                    Challenge Content\\n            \\n                </a>\\n            \\n\\n            \\n        </li>\\n    \\n        <li class=\"chapter \" data-level=\"2.3.4.2\" data-path=\"challenges/guidelines/style.html\">\\n            \\n                <a href=\"challenges/guidelines/style.html\">\\n            \\n                    \\n                    Challenge Style\\n            \\n                </a>\\n            \\n\\n            \\n        </li>\\n    \\n\\n            </ul>\\n            \\n        </li>\\n    \\n\\n            </ul>\\n            \\n        </li>\\n    \\n        <li class=\"chapter \" data-level=\"2.4\" data-path=\"projects/\">\\n            \\n                <a href=\"projects/\">\\n            \\n                    \\n                    Projects\\n            \\n                </a>\\n            \\n\\n            \\n            <ul class=\"articles\">\\n                \\n    \\n        <li class=\"chapter \" data-level=\"2.4.1\" data-path=\"projects/projects-process.html\">\\n            \\n                <a href=\"projects/projects-process.html\">\\n            \\n                    \\n                    Creation Process\\n            \\n                </a>\\n            \\n\\n            \\n        </li>\\n    \\n        <li class=\"chapter \" data-level=\"2.4.2\" data-path=\"projects/projects-format.html\">\\n            \\n                <a href=\"projects/projects-format.html\">\\n            \\n                    \\n                    Notebook Format\\n            \\n                </a>\\n            \\n\\n            \\n        </li>\\n    \\n        <li class=\"chapter \" data-level=\"2.4.3\" data-path=\"projects/projects-format.html\">\\n            \\n                <a href=\"projects/projects-format.html#overview\">\\n            \\n                    \\n                    Overview\\n            \\n                </a>\\n            \\n\\n            \\n            <ul class=\"articles\">\\n                \\n    \\n        <li class=\"chapter \" data-level=\"2.4.3.1\" data-path=\"projects/projects-format.html\">\\n            \\n                <a href=\"projects/projects-format.html#notebooktask\">\\n            \\n                    \\n                    type:NotebookTask\\n            \\n                </a>\\n            \\n\\n            \\n        </li>\\n    \\n        <li class=\"chapter \" data-level=\"2.4.3.2\" data-path=\"projects/projects-format.html\">\\n            \\n                <a href=\"projects/projects-format.html#context\">\\n            \\n                    \\n                    @context\\n            \\n                </a>\\n            \\n\\n            \\n        </li>\\n    \\n        <li class=\"chapter \" data-level=\"2.4.3.3\" data-path=\"projects/projects-format.html\">\\n            \\n                <a href=\"projects/projects-format.html#instructions\">\\n            \\n                    \\n                    @instructions\\n            \\n                </a>\\n            \\n\\n            \\n        </li>\\n    \\n        <li class=\"chapter \" data-level=\"2.4.3.4\" data-path=\"projects/projects-format.html\">\\n            \\n                <a href=\"projects/projects-format.html#hint\">\\n            \\n                    \\n                    @hint\\n            \\n                </a>\\n            \\n\\n            \\n        </li>\\n    \\n        <li class=\"chapter \" data-level=\"2.4.3.5\" data-path=\"projects/projects-format.html\">\\n            \\n                <a href=\"projects/projects-format.html#sample-code\">\\n            \\n                    \\n                    @sample_code\\n            \\n                </a>\\n            \\n\\n            \\n        </li>\\n    \\n        <li class=\"chapter \" data-level=\"2.4.3.6\" data-path=\"projects/projects-format.html\">\\n            \\n                <a href=\"projects/projects-format.html#solution\">\\n            \\n                    \\n                    @solution\\n            \\n                </a>\\n            \\n\\n            \\n        </li>\\n    \\n        <li class=\"chapter \" data-level=\"2.4.3.7\" data-path=\"projects/projects-format.html\">\\n            \\n                <a href=\"projects/projects-format.html#tests\">\\n            \\n                    \\n                    @tests\\n            \\n                </a>\\n            \\n\\n            \\n        </li>\\n    \\n\\n            </ul>\\n            \\n        </li>\\n    \\n        <li class=\"chapter \" data-level=\"2.4.4\" data-path=\"projects/projects-test-examples.html\">\\n            \\n                <a href=\"projects/projects-test-examples.html\">\\n            \\n                    \\n                    Test examples\\n            \\n                </a>\\n            \\n\\n            \\n        </li>\\n    \\n        <li class=\"chapter \" data-level=\"2.4.5\" data-path=\"projects/projects-repo-structure.html\">\\n            \\n                <a href=\"projects/projects-repo-structure.html\">\\n            \\n                    \\n                    File Structure\\n            \\n                </a>\\n            \\n\\n            \\n        </li>\\n    \\n        <li class=\"chapter \" data-level=\"2.4.6\" data-path=\"projects/projects-enforced-guidelines.html\">\\n            \\n                <a href=\"projects/projects-enforced-guidelines.html\">\\n            \\n                    \\n                    Enforced Guidelines\\n            \\n                </a>\\n            \\n\\n            \\n        </li>\\n    \\n\\n            </ul>\\n            \\n        </li>\\n    \\n        <li class=\"chapter \" data-level=\"2.5\" data-path=\"mobile/\">\\n            \\n                <a href=\"mobile/\">\\n            \\n                    \\n                    Mobile\\n            \\n                </a>\\n            \\n\\n            \\n            <ul class=\"articles\">\\n                \\n    \\n        <li class=\"chapter \" data-level=\"2.5.1\" data-path=\"mobile/courses/\">\\n            \\n                <a href=\"mobile/courses/\">\\n            \\n                    \\n                    Courses\\n            \\n                </a>\\n            \\n\\n            \\n            <ul class=\"articles\">\\n                \\n    \\n        <li class=\"chapter \" data-level=\"2.5.1.1\" data-path=\"mobile/courses/development.html\">\\n            \\n                <a href=\"mobile/courses/development.html\">\\n            \\n                    \\n                    Development Process\\n            \\n                </a>\\n            \\n\\n            \\n        </li>\\n    \\n        <li class=\"chapter \" data-level=\"2.5.1.2\" data-path=\"mobile/courses/repo-structure.html\">\\n            \\n                <a href=\"mobile/courses/repo-structure.html\">\\n            \\n                    \\n                    Repo Structure\\n            \\n                </a>\\n            \\n\\n            \\n        </li>\\n    \\n        <li class=\"chapter \" data-level=\"2.5.1.3\" data-path=\"mobile/courses/authoring.html\">\\n            \\n                <a href=\"mobile/courses/authoring.html\">\\n            \\n                    \\n                    Authoring\\n            \\n                </a>\\n            \\n\\n            \\n        </li>\\n    \\n        <li class=\"chapter \" data-level=\"2.5.1.4\" data-path=\"mobile/courses/exercises/\">\\n            \\n                <a href=\"mobile/courses/exercises/\">\\n            \\n                    \\n                    Exercises\\n            \\n                </a>\\n            \\n\\n            \\n            <ul class=\"articles\">\\n                \\n    \\n        <li class=\"chapter \" data-level=\"2.5.1.4.1\" data-path=\"mobile/courses/exercises/select-output.html\">\\n            \\n                <a href=\"mobile/courses/exercises/select-output.html\">\\n            \\n                    \\n                    Select Output\\n            \\n                </a>\\n            \\n\\n            \\n        </li>\\n    \\n        <li class=\"chapter \" data-level=\"2.5.1.4.2\" data-path=\"mobile/courses/exercises/select-table.html\">\\n            \\n                <a href=\"mobile/courses/exercises/select-table.html\">\\n            \\n                    \\n                    Select Table\\n            \\n                </a>\\n            \\n\\n            \\n        </li>\\n    \\n        <li class=\"chapter \" data-level=\"2.5.1.4.3\" data-path=\"mobile/courses/exercises/select-code.html\">\\n            \\n                <a href=\"mobile/courses/exercises/select-code.html\">\\n            \\n                    \\n                    Select Code\\n            \\n                </a>\\n            \\n\\n            \\n        </li>\\n    \\n        <li class=\"chapter \" data-level=\"2.5.1.4.4\" data-path=\"mobile/courses/exercises/tap.html\">\\n            \\n                <a href=\"mobile/courses/exercises/tap.html\">\\n            \\n                    \\n                    Tap\\n            \\n                </a>\\n            \\n\\n            \\n        </li>\\n    \\n        <li class=\"chapter \" data-level=\"2.5.1.4.5\" data-path=\"mobile/courses/exercises/multiple-choice.html\">\\n            \\n                <a href=\"mobile/courses/exercises/multiple-choice.html\">\\n            \\n                    \\n                    Multiple Choice\\n            \\n                </a>\\n            \\n\\n            \\n        </li>\\n    \\n        <li class=\"chapter \" data-level=\"2.5.1.4.6\" data-path=\"mobile/courses/exercises/reorder.html\">\\n            \\n                <a href=\"mobile/courses/exercises/reorder.html\">\\n            \\n                    \\n                    Reorder\\n            \\n                </a>\\n            \\n\\n            \\n        </li>\\n    \\n\\n            </ul>\\n            \\n        </li>\\n    \\n        <li class=\"chapter \" data-level=\"2.5.1.5\" data-path=\"mobile/courses/guidelines.html\">\\n            \\n                <a href=\"mobile/courses/guidelines.html\">\\n            \\n                    \\n                    Guidelines\\n            \\n                </a>\\n            \\n\\n            \\n        </li>\\n    \\n\\n            </ul>\\n            \\n        </li>\\n    \\n        <li class=\"chapter \" data-level=\"2.5.2\" data-path=\"mobile/practice/\">\\n            \\n                <a href=\"mobile/practice/\">\\n            \\n                    \\n                    Practice\\n            \\n                </a>\\n            \\n\\n            \\n        </li>\\n    \\n\\n            </ul>\\n            \\n        </li>\\n    \\n\\n    \\n        \\n        <li class=\"header\">Premium Courses</li>\\n        \\n        \\n    \\n        <li class=\"chapter \" data-level=\"3.1\" data-path=\"courses/audition.html\">\\n            \\n                <a href=\"courses/audition.html\">\\n            \\n                    \\n                    Creating Your Audition Video\\n            \\n                </a>\\n            \\n\\n            \\n        </li>\\n    \\n        <li class=\"chapter \" data-level=\"3.2\" data-path=\"courses/design/\">\\n            \\n                <a href=\"courses/design/\">\\n            \\n                    \\n                    Design\\n            \\n                </a>\\n            \\n\\n            \\n            <ul class=\"articles\">\\n                \\n    \\n        <li class=\"chapter \" data-level=\"3.2.1\" data-path=\"courses/design/template.html\">\\n            \\n                <a href=\"courses/design/template.html\">\\n            \\n                    \\n                    Design Template\\n            \\n                </a>\\n            \\n\\n            \\n        </li>\\n    \\n        <li class=\"chapter \" data-level=\"3.2.2\" data-path=\"courses/design/personas.html\">\\n            \\n                <a href=\"courses/design/personas.html\">\\n            \\n                    \\n                    Learner Personas\\n            \\n                </a>\\n            \\n\\n            \\n        </li>\\n    \\n\\n            </ul>\\n            \\n        </li>\\n    \\n        <li class=\"chapter \" data-level=\"3.3\" data-path=\"premium-course-process.html\">\\n            \\n                <a href=\"premium-course-process.html\">\\n            \\n                    \\n                    Development Process\\n            \\n                </a>\\n            \\n\\n            \\n            <ul class=\"articles\">\\n                \\n    \\n        <li class=\"chapter \" data-level=\"3.3.1\" data-path=\"premium-course-process.html\">\\n            \\n                <a href=\"premium-course-process.html#course-specs\">\\n            \\n                    \\n                    Course specs\\n            \\n                </a>\\n            \\n\\n            \\n        </li>\\n    \\n        <li class=\"chapter \" data-level=\"3.3.2\" data-path=\"premium-course-process.html\">\\n            \\n                <a href=\"premium-course-process.html#exercises\">\\n            \\n                    \\n                    Exercises\\n            \\n                </a>\\n            \\n\\n            \\n        </li>\\n    \\n        <li class=\"chapter \" data-level=\"3.3.3\" data-path=\"premium-course-process.html\">\\n            \\n                <a href=\"premium-course-process.html#slides-scripts\">\\n            \\n                    \\n                    Slides and Scripts\\n            \\n                </a>\\n            \\n\\n            \\n        </li>\\n    \\n        <li class=\"chapter \" data-level=\"3.3.4\" data-path=\"premium-course-process.html\">\\n            \\n                <a href=\"premium-course-process.html#screencasts\">\\n            \\n                    \\n                    Screencasts\\n            \\n                </a>\\n            \\n\\n            \\n        </li>\\n    \\n        <li class=\"chapter \" data-level=\"3.3.5\" data-path=\"premium-course-process.html\">\\n            \\n                <a href=\"premium-course-process.html#videos\">\\n            \\n                    \\n                    Videos\\n            \\n                </a>\\n            \\n\\n            \\n        </li>\\n    \\n        <li class=\"chapter \" data-level=\"3.3.6\" data-path=\"premium-course-process.html\">\\n            \\n                <a href=\"premium-course-process.html#review-release\">\\n            \\n                    \\n                    Review and release\\n            \\n                </a>\\n            \\n\\n            \\n        </li>\\n    \\n        <li class=\"chapter \" data-level=\"3.3.7\" data-path=\"premium-course-process.html\">\\n            \\n                <a href=\"premium-course-process.html#monitor-maintain\">\\n            \\n                    \\n                    Monitor and Maintain\\n            \\n                </a>\\n            \\n\\n            \\n        </li>\\n    \\n\\n            </ul>\\n            \\n        </li>\\n    \\n\\n    \\n\\n    <li class=\"divider\"></li>\\n\\n    <li>\\n        <a href=\"https://www.gitbook.com\" target=\"blank\" class=\"gitbook-link\">\\n            Published with GitBook\\n        </a>\\n    </li>\\n</ul>\\n\\n\\n                </nav>\\n            \\n        \\n    </div>\\n\\n    <div class=\"book-body\">\\n        \\n            <div class=\"body-inner\">\\n                \\n                    \\n\\n<div class=\"book-header\" role=\"navigation\">\\n    \\n\\n    <!-- Title -->\\n    <h1>\\n        <i class=\"fa fa-circle-o-notch fa-spin\"></i>\\n        <a href=\".\" >Welcome</a>\\n    </h1>\\n</div>\\n\\n\\n\\n\\n                    <div class=\"page-wrapper\" tabindex=\"-1\" role=\"main\">\\n                        <div class=\"page-inner\">\\n                            \\n<div id=\"book-search-results\">\\n    <div class=\"search-noresults\">\\n    \\n                                <section class=\"normal markdown-section\">\\n                                \\n                                <h1 id=\"welcome\">Welcome</h1>\\n<p>Anyone can create content for free using our authoring tools, then make that content available to others. This documentation will help you do that by explaining what our various tools do and what content they can be used to create.</p>\\n<p>If you&apos;d like to make your content freely available to the general public via the <a href=\"https://www.datacamp.com/community/\" target=\"_blank\">Community section</a> of our website, you can get started on your content right away and reach out to <a href=\"mailto:support@datacamp.com\" target=\"_blank\">support@datacamp.com</a> when it&apos;s done.</p>\\n<p>If you&apos;re interested in creating premium content on <a href=\"https://www.datacamp.com/\" target=\"_blank\">datacamp.com</a> available only to DataCamp subscribers, you can <a href=\"https://www.datacamp.com/create/\" target=\"_blank\">apply here</a> to be considered. If you are selected to create premium content, we will work closely with you to plan and develop the material so that it fits neatly among our other premium offerings.</p>\\n<h1 id=\"types-of-content\">Types of Content</h1>\\n<p>DataCamp supports several different types of training content, each serving a particular purpose:</p>\\n<ul>\\n<li><em>Courses</em> teach new data science material.</li>\\n<li><em>Challenges</em> allow students to practice what they&apos;ve learned in courses.</li>\\n<li><em>Projects</em> provide an opportunity to apply things in a real-world setting.</li>\\n<li><em>Mobile courses</em> provide students the ability to learn and practice topics on the go.</li>\\n</ul>\\n<h3 id=\"courses\">Courses</h3>\\n<p>The purpose of a DataCamp course is to teach students something new. For example, our <a href=\"https://www.datacamp.com/courses/intro-to-sql-for-data-science\" target=\"_blank\">Introduction to SQL for Data Science</a> course teaches students the basics of using SQL in a data science context, covering basic <code>SELECT</code> statements, filtering, aggregate functions, etc.</p>\\n<p><a href=\"https://campus.datacamp.com/courses/intro-to-sql-for-data-science/filtering-rows?ex=3\" target=\"_blank\"><img src=\"images/courses/intro-sql.png\" alt=\"Introduction to SQL for Data Science\"></a></p>\\n<p>Ready to create a course? <a href=\"courses/\">Get started now!</a></p>\\n<h3 id=\"challenges\">Challenges</h3>\\n<p>Challenges give students a chance to practice what they&apos;ve learned in courses. For example, our <a href=\"https://challenges.datacamp.com/practice/300\" target=\"_blank\">Pandas Foundations</a> challenges test students&apos; ability to perform basic tasks with the popular Python package introduced in <a href=\"https://www.datacamp.com/courses/pandas-foundations\" target=\"_blank\">our course</a> with the same name.</p>\\n<p><a href=\"https://challenges.datacamp.com/practice/300\" target=\"_blank\"><img src=\"images/challenges/pandas-challenge.png\" alt=\"pandas Foundations\"></a></p>\\n<!-- Ready to create some challenges? [Get started now!](challenges/README.md) -->\\n<div class=\"callout callout-info\"><h4 id=\"note\">Note</h4><div><p>Challenge authoring is only available to invited instructors at the moment, but should be available to everyone in the near future. If you&apos;re interested in creating some, please contact <a href=\"mailto:spencer@datacamp.com\" target=\"_blank\">spencer@datacamp.com</a> for more info!</p><p>In the meantime, you can browse the relevant <a href=\"challenges/\">documentation</a>.</p></div></div>\\n<h3 id=\"projects\">Projects</h3>\\n<p>Projects allow students to apply what they&apos;ve learned in a more open-ended and real-world data science context. For example, our project about <a href=\"https://www.datacamp.com/projects/20\" target=\"_blank\">Dr. Semmelweis and the discovery of handwashing</a> allows students to analyze data on the life-saving impact of handwashing in the 1800s.</p>\\n<p><a href=\"https://projects.datacamp.com/projects/20\" target=\"_blank\"><img src=\"images/projects/handwashing-project.png\" alt=\"Dr. Semmelweis and the discovery of handwashing\"></a></p>\\n<!-- Ready to create a project? **[Get started now!](projects/README.md)** -->\\n<div class=\"callout callout-info\"><h4 id=\"note\">Note</h4><div><p>If you&apos;re interested in creating a project, please browse the relevant <a href=\"projects/\">documentation</a>, follow steps 1 and 2 <a href=\"projects/projects-process.html\">here</a>, then email <a href=\"mailto:projects@datacamp.com\" target=\"_blank\">projects@datacamp.com</a> with your Project idea.</p></div></div>\\n<h3 id=\"mobile\">Mobile</h3>\\n<p>DataCamp for Mobile makes it possible for students to engage with their learning\\nanytime and anywhere. It is available for both\\n<a href=\"https://play.google.com/store/apps/details?id=com.datacamp\" target=\"_blank\">Android</a> and\\n<a href=\"https://itunes.apple.com/us/app/datacamp-learn-r-python/id1263413087\" target=\"_blank\">iOS</a>. There\\nare two types of mobile content: full mobile courses (more like a desktop\\ncourse), and mobile practice content (more like desktop challenges).</p>\\n<p><img src=\"images/mobile/play-store-small.png\" alt=\"DataCamp for Mobile\" title=\"DataCamp for Mobile\"></p>\\n<div class=\"callout callout-info\"><h4 id=\"note\">Note</h4><div><p>Mobile authoring is only available to invited instructors at the moment, but should be available to everyone in the near future. If you&apos;re interested in creating a mobile course or mobile practice exercises for your existing desktop course, please contact <a href=\"mailto:create@datacamp.com\" target=\"_blank\">create@datacamp.com</a> for more info!</p><p>In the meantime, you can browse the relevant <a href=\"projects/\">documentation</a>.</p></div></div>\\n\\n                                \\n                                </section>\\n                            \\n    </div>\\n    <div class=\"search-results\">\\n        <div class=\"has-results\">\\n            \\n            <h1 class=\"search-results-title\"><span class=\\'search-results-count\\'></span> results matching \"<span class=\\'search-query\\'></span>\"</h1>\\n            <ul class=\"search-results-list\"></ul>\\n            \\n        </div>\\n        <div class=\"no-results\">\\n            \\n            <h1 class=\"search-results-title\">No results matching \"<span class=\\'search-query\\'></span>\"</h1>\\n            \\n        </div>\\n    </div>\\n</div>\\n\\n                        </div>\\n                    </div>\\n                \\n            </div>\\n\\n            \\n                \\n                \\n                <a href=\"welcome/getting-started.html\" class=\"navigation navigation-next navigation-unique\" aria-label=\"Next page: Getting Started\">\\n                    <i class=\"fa fa-angle-right\"></i>\\n                </a>\\n                \\n            \\n        \\n    </div>\\n\\n    <script>\\n        var gitbook = gitbook || [];\\n        gitbook.push(function() {\\n            gitbook.page.hasChanged({\"page\":{\"title\":\"Welcome\",\"level\":\"1.1\",\"depth\":1,\"next\":{\"title\":\"Getting Started\",\"level\":\"1.2\",\"depth\":1,\"path\":\"welcome/getting-started.md\",\"ref\":\"welcome/getting-started.md\",\"articles\":[]},\"dir\":\"ltr\"},\"config\":{\"plugins\":[\"bootstrap-callout\",\"expandable-chapters\",\"advanced-emoji\",\"videoclips\",\"copy-code-button\",\"codetabs\"],\"root\":\"docs/\",\"styles\":{\"website\":\"styles/website.css\",\"pdf\":\"styles/pdf.css\",\"epub\":\"styles/epub.css\",\"mobi\":\"styles/mobi.css\",\"ebook\":\"styles/ebook.css\",\"print\":\"styles/print.css\"},\"pluginsConfig\":{\"search\":{},\"videoclips\":{},\"codetabs\":{},\"lunr\":{\"maxIndexSize\":1000000,\"ignoreSpecialCharacters\":false},\"bootstrap-callout\":{},\"fontsettings\":{\"theme\":\"white\",\"family\":\"sans\",\"size\":2},\"highlight\":{},\"copy-code-button\":{},\"advanced-emoji\":{\"embedEmojis\":false},\"sharing\":{\"facebook\":true,\"twitter\":true,\"google\":false,\"weibo\":false,\"instapaper\":false,\"vk\":false,\"all\":[\"facebook\",\"google\",\"twitter\",\"weibo\",\"instapaper\"]},\"theme-default\":{\"styles\":{\"website\":\"styles/website.css\",\"pdf\":\"styles/pdf.css\",\"epub\":\"styles/epub.css\",\"mobi\":\"styles/mobi.css\",\"ebook\":\"styles/ebook.css\",\"print\":\"styles/print.css\"},\"showLevel\":false},\"expandable-chapters\":{}},\"theme\":\"default\",\"pdf\":{\"pageNumbers\":true,\"fontSize\":12,\"fontFamily\":\"Lato\",\"paperSize\":\"a4\",\"chapterMark\":\"pagebreak\",\"pageBreaksBefore\":\"/\",\"margin\":{\"right\":62,\"left\":62,\"top\":56,\"bottom\":56}},\"structure\":{\"langs\":\"LANGS.md\",\"readme\":\"README.md\",\"glossary\":\"GLOSSARY.md\",\"summary\":\"SUMMARY.md\"},\"variables\":{},\"title\":\"Authoring Content for DataCamp\",\"gitbook\":\"*\"},\"file\":{\"path\":\"README.md\",\"mtime\":\"2018-09-21T11:43:37.000Z\",\"type\":\"markdown\"},\"gitbook\":{\"version\":\"3.2.3\",\"time\":\"2018-09-21T11:45:04.105Z\"},\"basePath\":\".\",\"book\":{\"language\":\"\"}});\\n        });\\n    </script>\\n</div>\\n\\n        \\n    <script src=\"gitbook/gitbook.js\"></script>\\n    <script src=\"gitbook/theme.js\"></script>\\n    \\n        \\n        <script src=\"gitbook/gitbook-plugin-expandable-chapters/expandable-chapters.js\"></script>\\n        \\n    \\n        \\n        <script src=\"gitbook/gitbook-plugin-copy-code-button/toggle.js\"></script>\\n        \\n    \\n        \\n        <script src=\"gitbook/gitbook-plugin-codetabs/codetabs.js\"></script>\\n        \\n    \\n        \\n        <script src=\"gitbook/gitbook-plugin-search/search-engine.js\"></script>\\n        \\n    \\n        \\n        <script src=\"gitbook/gitbook-plugin-search/search.js\"></script>\\n        \\n    \\n        \\n        <script src=\"gitbook/gitbook-plugin-lunr/lunr.min.js\"></script>\\n        \\n    \\n        \\n        <script src=\"gitbook/gitbook-plugin-lunr/search-lunr.js\"></script>\\n        \\n    \\n        \\n        <script src=\"gitbook/gitbook-plugin-sharing/buttons.js\"></script>\\n        \\n    \\n        \\n        <script src=\"gitbook/gitbook-plugin-fontsettings/fontsettings.js\"></script>\\n        \\n    \\n\\n    </body>\\n</html>\\n\\n'\n"
          ],
          "name": "stdout"
        }
      ]
    },
    {
      "metadata": {
        "id": "slBR4shhu7PH",
        "colab_type": "text"
      },
      "cell_type": "markdown",
      "source": [
        "**Performing HTTP requests in Python using requests**\n",
        "\n",
        "You're going to figure out how to do the same using the higher-level requests library.You'll once again be pinging DataCamp servers for their \"http://www.datacamp.com/teach/documentation\" page.\n",
        "\n",
        "Note that unlike in the previous exercises using urllib, you don't have to close the connection when using requests."
      ]
    },
    {
      "metadata": {
        "id": "bXHusKpTvIT4",
        "colab_type": "code",
        "colab": {}
      },
      "cell_type": "code",
      "source": [
        "# Import package\n",
        "import requests\n",
        "\n",
        "# Specify the url: url\n",
        "url=\"http://www.datacamp.com/teach/documentation\"\n",
        "\n",
        "# Packages the request, send the request and catch the response: r\n",
        "r= requests.get(url)\n",
        "\n",
        "# Extract the response: text\n",
        "text=r.text\n",
        "\n",
        "# Print the html\n",
        "# print(text)\n"
      ],
      "execution_count": 0,
      "outputs": []
    },
    {
      "metadata": {
        "id": "nuRKgOtqvofk",
        "colab_type": "text"
      },
      "cell_type": "markdown",
      "source": [
        "**Scraping the web in Python**\n",
        "\n"
      ]
    },
    {
      "metadata": {
        "id": "xF7FY5IIv1Aa",
        "colab_type": "text"
      },
      "cell_type": "markdown",
      "source": [
        "**Parsing HTML with BeautifulSoup**\n",
        "\n",
        "In this iexercise, you'll learn how to use the **BeautifulSoup** package to *parse, prettify and extract* information from HTML. You'll scrape the data from the webpage of Guido van Rossum, Python's very own **Benevolent Dictator for Life.** In the following exercises, you'll prettify the HTML and then extract the text and the hyperlinks.\n",
        "\n",
        "The URL of interest is url = 'https://www.python.org/~guido/'"
      ]
    },
    {
      "metadata": {
        "id": "_KhgujSewKfw",
        "colab_type": "code",
        "colab": {}
      },
      "cell_type": "code",
      "source": [
        "# Import packages\n",
        "import requests\n",
        "from bs4 import BeautifulSoup\n",
        "\n",
        "# Specify url: url\n",
        "url='https://www.python.org/~guido/'\n",
        "\n",
        "# Package the request, send the request and catch the response: r\n",
        "r=requests.get(url)\n",
        "\n",
        "# Extracts the response as html: html_doc\n",
        "html_doc=r.text\n",
        "\n",
        "# Create a BeautifulSoup object from the HTML: soup\n",
        "soup=BeautifulSoup(html_doc)\n",
        "\n",
        "# Prettify the BeautifulSoup object: pretty_soup\n",
        "pretty_soup=soup.prettify()\n",
        "\n",
        "# Print the response\n",
        "# print(pretty_soup)\n"
      ],
      "execution_count": 0,
      "outputs": []
    },
    {
      "metadata": {
        "id": "CHcHfwqlyrP-",
        "colab_type": "text"
      },
      "cell_type": "markdown",
      "source": [
        "**Turning a webpage into data using BeautifulSoup: getting the text**\n",
        "\n",
        "You'll learn the basics of extracting information from HTML soup. In this exercise, you'll figure out how to extract the text from the BDFL's webpage, along with printing the webpage's title."
      ]
    },
    {
      "metadata": {
        "id": "8hZoRgUJylGl",
        "colab_type": "code",
        "colab": {
          "base_uri": "https://localhost:8080/",
          "height": 34
        },
        "outputId": "56103cb0-e91e-4489-a52d-c4509a4d6ee4"
      },
      "cell_type": "code",
      "source": [
        "# Import packages\n",
        "import requests\n",
        "from bs4 import BeautifulSoup\n",
        "\n",
        "# Specify url: url\n",
        "url = 'https://www.python.org/~guido/'\n",
        "\n",
        "# Package the request, send the request and catch the response: r\n",
        "r = requests.get(url)\n",
        "\n",
        "# Extract the response as html: html_doc\n",
        "html_doc = r.text\n",
        "\n",
        "# Create a BeautifulSoup object from the HTML: soup\n",
        "soup=BeautifulSoup(html_doc)\n",
        "\n",
        "# Get the title of Guido's webpage: guido_title\n",
        "guido_title=soup.title\n",
        "\n",
        "# Print the title of Guido's webpage to the shell\n",
        "print(guido_title)\n",
        "\n",
        "# Get Guido's text: guido_text\n",
        "guido_text=soup.get_text()\n",
        "\n",
        "# Print Guido's text to the shell\n",
        "# print(guido_text)\n"
      ],
      "execution_count": 23,
      "outputs": [
        {
          "output_type": "stream",
          "text": [
            "<title>Guido's Personal Home Page</title>\n"
          ],
          "name": "stdout"
        }
      ]
    },
    {
      "metadata": {
        "id": "64U1YAnvzTnS",
        "colab_type": "text"
      },
      "cell_type": "markdown",
      "source": [
        "**Turning a webpage into data using BeautifulSoup: getting the hyperlinks**\n",
        "\n",
        "In this exercise, you'll figure out how to extract the URLs of the hyperlinks from the BDFL's webpage. In the process, you'll become close friends with the soup method **find_all().**"
      ]
    },
    {
      "metadata": {
        "id": "ueRZcGNzzNa6",
        "colab_type": "code",
        "colab": {
          "base_uri": "https://localhost:8080/",
          "height": 476
        },
        "outputId": "bc34e3d4-7b58-4c1a-ea26-b027bfcf2ecc"
      },
      "cell_type": "code",
      "source": [
        "# Import packages\n",
        "import requests\n",
        "from bs4 import BeautifulSoup\n",
        "\n",
        "# Specify url\n",
        "url = 'https://www.python.org/~guido/'\n",
        "\n",
        "# Package the request, send the request and catch the response: r\n",
        "r = requests.get(url)\n",
        "\n",
        "# Extracts the response as html: html_doc\n",
        "html_doc = r.text\n",
        "\n",
        "# create a BeautifulSoup object from the HTML: soup\n",
        "soup = BeautifulSoup(html_doc)\n",
        "\n",
        "# Print the title of Guido's webpage\n",
        "print(soup.title)\n",
        "\n",
        "# Find all 'a' tags (which define hyperlinks): a_tags\n",
        "a_tags=soup.find_all('a')\n",
        "\n",
        "# Print the URLs to the shell\n",
        "for link in a_tags:\n",
        "    print(link.get('href'))\n"
      ],
      "execution_count": 24,
      "outputs": [
        {
          "output_type": "stream",
          "text": [
            "<title>Guido's Personal Home Page</title>\n",
            "pics.html\n",
            "http://www.washingtonpost.com/wp-srv/business/longterm/microsoft/stories/1998/raymond120398.htm\n",
            "http://metalab.unc.edu/Dave/Dr-Fun/df200004/df20000406.jpg\n",
            "http://neopythonic.blogspot.com/2016/04/kings-day-speech.html\n",
            "http://www.python.org\n",
            "Resume.html\n",
            "Publications.html\n",
            "bio.html\n",
            "http://legacy.python.org/doc/essays/\n",
            "http://legacy.python.org/doc/essays/ppt/\n",
            "interviews.html\n",
            "pics.html\n",
            "http://neopythonic.blogspot.com\n",
            "http://www.artima.com/weblogs/index.jsp?blogger=12088\n",
            "https://twitter.com/gvanrossum\n",
            "https://plus.google.com/u/0/115212051037621986145/posts\n",
            "http://www.dropbox.com\n",
            "Resume.html\n",
            "http://groups.google.com/groups?q=comp.lang.python\n",
            "http://stackoverflow.com\n",
            "guido.au\n",
            "http://legacy.python.org/doc/essays/\n",
            "images/license.jpg\n",
            "http://www.cnpbagwell.com/audio-faq\n",
            "http://sox.sourceforge.net/\n",
            "images/internetdog.gif\n"
          ],
          "name": "stdout"
        }
      ]
    },
    {
      "metadata": {
        "id": "RXA2ybFu0GMu",
        "colab_type": "text"
      },
      "cell_type": "markdown",
      "source": [
        "# Introduction to APIs and JSONs\n"
      ]
    },
    {
      "metadata": {
        "id": "gQNmbA260Ik-",
        "colab_type": "text"
      },
      "cell_type": "markdown",
      "source": [
        "**Loading and exploring a JSON**\n",
        "\n",
        "Now that you know what a JSON is, you'll load one into your Python environment and explore it yourself. Here, you'll load the JSON **'a_movie.json' **into the variable **json_data**, which will be a dictionary. You'll then explore the JSON contents by printing the key-value pairs of json_data to the shell."
      ]
    },
    {
      "metadata": {
        "id": "gJy5zTJX0w9i",
        "colab_type": "code",
        "colab": {}
      },
      "cell_type": "code",
      "source": [
        "# Load JSON: json_data\n",
        "with open(\"a_movie.json\") as json_file:\n",
        "    json_data = json.load(json_file)\n",
        "\n",
        "# Print each key-value pair in json_data\n",
        "for k in json_data.keys():\n",
        "    print(k + ': ', json_data[k])\n"
      ],
      "execution_count": 0,
      "outputs": []
    },
    {
      "metadata": {
        "id": "FLq1oV_T2CAH",
        "colab_type": "text"
      },
      "cell_type": "markdown",
      "source": [
        "# APIs and interacting with the world wide web\n"
      ]
    },
    {
      "metadata": {
        "id": "5uEPAtrJ2DHS",
        "colab_type": "text"
      },
      "cell_type": "markdown",
      "source": [
        "**API requests**\n",
        "\n",
        "Now it's your turn to pull some movie data down from the Open Movie Database (OMDB) using their API. The movie you'll query the API about is The Social Network. Recall that, in the video, to query the API about the movie Hackers, Hugo's query string was 'http://www.omdbapi.com/?t=hackers' and had a single argument** t=hackers.**\n",
        "\n",
        "Note: recently, OMDB has changed their API: you now also have to specify an API key. This means you'll have to add another argument to the URL: **apikey=ff21610b.**"
      ]
    },
    {
      "metadata": {
        "id": "kj7t5NPa5hg7",
        "colab_type": "code",
        "colab": {
          "base_uri": "https://localhost:8080/",
          "height": 54
        },
        "outputId": "9321b4ce-a25d-496a-a2d4-94f4d23ab8a4"
      },
      "cell_type": "code",
      "source": [
        "# Import requests package\n",
        "import requests\n",
        "\n",
        "# Assign URL to variable: url\n",
        "url='http://www.omdbapi.com/?apikey=ff21610b&t=the+social+network'\n",
        "\n",
        "# Package the request, send the request and catch the response: r\n",
        "r = requests.get(url)\n",
        "\n",
        "# Print the text of the response\n",
        "print(r.text)\n"
      ],
      "execution_count": 26,
      "outputs": [
        {
          "output_type": "stream",
          "text": [
            "{\"Title\":\"The Social Network\",\"Year\":\"2010\",\"Rated\":\"PG-13\",\"Released\":\"01 Oct 2010\",\"Runtime\":\"120 min\",\"Genre\":\"Biography, Drama\",\"Director\":\"David Fincher\",\"Writer\":\"Aaron Sorkin (screenplay), Ben Mezrich (book)\",\"Actors\":\"Jesse Eisenberg, Rooney Mara, Bryan Barter, Dustin Fitzsimons\",\"Plot\":\"Harvard student Mark Zuckerberg creates the social networking site that would become known as Facebook, but is later sued by two brothers who claimed he stole their idea, and the co-founder who was later squeezed out of the business.\",\"Language\":\"English, French\",\"Country\":\"USA\",\"Awards\":\"Won 3 Oscars. Another 165 wins & 168 nominations.\",\"Poster\":\"https://m.media-amazon.com/images/M/MV5BMTM2ODk0NDAwMF5BMl5BanBnXkFtZTcwNTM1MDc2Mw@@._V1_SX300.jpg\",\"Ratings\":[{\"Source\":\"Internet Movie Database\",\"Value\":\"7.7/10\"},{\"Source\":\"Rotten Tomatoes\",\"Value\":\"95%\"},{\"Source\":\"Metacritic\",\"Value\":\"95/100\"}],\"Metascore\":\"95\",\"imdbRating\":\"7.7\",\"imdbVotes\":\"550,434\",\"imdbID\":\"tt1285016\",\"Type\":\"movie\",\"DVD\":\"11 Jan 2011\",\"BoxOffice\":\"$96,400,000\",\"Production\":\"Columbia Pictures\",\"Website\":\"http://www.thesocialnetwork-movie.com/\",\"Response\":\"True\"}\n"
          ],
          "name": "stdout"
        }
      ]
    },
    {
      "metadata": {
        "id": "5FJpkiN06MWh",
        "colab_type": "text"
      },
      "cell_type": "markdown",
      "source": [
        "**JSON–from the web to Python**\n",
        "As you know, your response is actually a JSON, so you can do one step better and decode the JSON. You can then print the key-value pairs of the resulting dictionary. That's what you're going to do now!"
      ]
    },
    {
      "metadata": {
        "id": "UkS7OCdj6RXz",
        "colab_type": "code",
        "colab": {
          "base_uri": "https://localhost:8080/",
          "height": 462
        },
        "outputId": "27509b40-7fcb-4e3c-93ca-1081995bcd18"
      },
      "cell_type": "code",
      "source": [
        "# Import package\n",
        "import requests\n",
        "\n",
        "# Assign URL to variable: url\n",
        "url = 'http://www.omdbapi.com/?apikey=ff21610b&t=social+network'\n",
        "\n",
        "# Package the request, send the request and catch the response: r\n",
        "r = requests.get(url)\n",
        "\n",
        "# Decode the JSON data into a dictionary: json_data\n",
        "json_data=r.json()\n",
        "\n",
        "# Print each key-value pair in json_data\n",
        "for k in json_data.keys():\n",
        "    print(k + ': ', json_data[k])\n"
      ],
      "execution_count": 27,
      "outputs": [
        {
          "output_type": "stream",
          "text": [
            "Title:  The Social Network\n",
            "Year:  2010\n",
            "Rated:  PG-13\n",
            "Released:  01 Oct 2010\n",
            "Runtime:  120 min\n",
            "Genre:  Biography, Drama\n",
            "Director:  David Fincher\n",
            "Writer:  Aaron Sorkin (screenplay), Ben Mezrich (book)\n",
            "Actors:  Jesse Eisenberg, Rooney Mara, Bryan Barter, Dustin Fitzsimons\n",
            "Plot:  Harvard student Mark Zuckerberg creates the social networking site that would become known as Facebook, but is later sued by two brothers who claimed he stole their idea, and the co-founder who was later squeezed out of the business.\n",
            "Language:  English, French\n",
            "Country:  USA\n",
            "Awards:  Won 3 Oscars. Another 165 wins & 168 nominations.\n",
            "Poster:  https://m.media-amazon.com/images/M/MV5BMTM2ODk0NDAwMF5BMl5BanBnXkFtZTcwNTM1MDc2Mw@@._V1_SX300.jpg\n",
            "Ratings:  [{'Source': 'Internet Movie Database', 'Value': '7.7/10'}, {'Source': 'Rotten Tomatoes', 'Value': '95%'}, {'Source': 'Metacritic', 'Value': '95/100'}]\n",
            "Metascore:  95\n",
            "imdbRating:  7.7\n",
            "imdbVotes:  550,434\n",
            "imdbID:  tt1285016\n",
            "Type:  movie\n",
            "DVD:  11 Jan 2011\n",
            "BoxOffice:  $96,400,000\n",
            "Production:  Columbia Pictures\n",
            "Website:  http://www.thesocialnetwork-movie.com/\n",
            "Response:  True\n"
          ],
          "name": "stdout"
        }
      ]
    },
    {
      "metadata": {
        "id": "T0uLA84P6rIr",
        "colab_type": "text"
      },
      "cell_type": "markdown",
      "source": [
        "**Checking out the Wikipedia API**\n",
        "\n",
        "You'll figure out how to find and extract information from the Wikipedia page for Pizza. What gets a bit wild here is that your query will return nested JSONs, that is, JSONs with JSONs, but Python can handle that because it will translate them into dictionaries within dictionaries.\n",
        "\n",
        "The URL that requests the relevant query from the Wikipedia API is  \n",
        "https://en.wikipedia.org/w/api.php?action=query&prop=extracts&format=json&exintro=&titles=pizza"
      ]
    },
    {
      "metadata": {
        "id": "Zxi753U-6y6P",
        "colab_type": "code",
        "colab": {
          "base_uri": "https://localhost:8080/",
          "height": 122
        },
        "outputId": "0c0f89b1-d619-4e93-d360-23b53a3f2356"
      },
      "cell_type": "code",
      "source": [
        "# Import package\n",
        "import requests\n",
        "\n",
        "# Assign URL to variable: url\n",
        "url='https://en.wikipedia.org/w/api.php?action=query&prop=extracts&format=json&exintro=&titles=pizza'\n",
        "\n",
        "# Package the request, send the request and catch the response: r\n",
        "r = requests.get(url)\n",
        "\n",
        "# Decode the JSON data into a dictionary: json_data\n",
        "json_data=r.json()\n",
        "\n",
        "# Print the Wikipedia page extract\n",
        "pizza_extract = json_data['query']['pages']['24768']['extract']\n",
        "print(pizza_extract)\n"
      ],
      "execution_count": 28,
      "outputs": [
        {
          "output_type": "stream",
          "text": [
            "<p class=\"mw-empty-elt\">\n",
            "</p>\n",
            "<p><b>Pizza</b> is a savoury dish of Italian origin, consisting of a usually round, flattened base of leavened wheat-based dough topped with tomatoes, cheese, and various other ingredients (anchovies, olives, meat, etc.) baked at a high temperature, traditionally in a  wood-fired oven. In formal settings, like a restaurant, pizza is  eaten with knife and fork, but in casual settings it is cut into wedges to be eaten while held in the hand. Small pizzas are sometimes called pizzettas.   \n",
            "</p><p>The term <i>pizza</i> was first recorded in the 10th century in a Latin manuscript from the Southern Italian town of Gaeta in Lazio, on the border with Campania. Modern pizza was invented in Naples, and the dish and its variants have since become popular in many countries. Today it is one of the most popular foods in the world and a common fast food item in Europe and North America, available at any pizzeria (a restaurant specializing in pizza) or other restaurants offering Mediterranean cuisine, which usually offer pizza delivery. Many companies sell ready-baked frozen pizzas to be reheated in an ordinary home oven. \n",
            "</p><p>The <i>Associazione Verace Pizza Napoletana</i> (True Neapolitan Pizza Association), a non-profit organization founded in 1984 with headquarters in Naples, aims to \"promote and protect... the true Neapolitan pizza\". In 2009, upon Italy's request, Neapolitan pizza was registered with the European Union as a Traditional Speciality Guaranteed dish.</p>\n"
          ],
          "name": "stdout"
        }
      ]
    },
    {
      "metadata": {
        "id": "_osrS4L7TQ5e",
        "colab_type": "text"
      },
      "cell_type": "markdown",
      "source": [
        "# The Twitter API and Authentication"
      ]
    },
    {
      "metadata": {
        "id": "VyDXtgngTSKa",
        "colab_type": "text"
      },
      "cell_type": "markdown",
      "source": [
        "**API Authentication**\n",
        "\n",
        "The package tweepy is great at handling all the Twitter API OAuth Authentication details for you.\n",
        "In this interactive exercise, we have created some mock authentication credentials (if you wanted to replicate this at home, you would need to create a Twitter App). Your task is to pass these credentials to tweepy's OAuth handler."
      ]
    },
    {
      "metadata": {
        "id": "aNxNYbmFVC6b",
        "colab_type": "code",
        "colab": {}
      },
      "cell_type": "code",
      "source": [
        "!pip -q install tweepy"
      ],
      "execution_count": 0,
      "outputs": []
    },
    {
      "metadata": {
        "id": "5Aa5addLUZGF",
        "colab_type": "code",
        "colab": {}
      },
      "cell_type": "code",
      "source": [
        "# Import package\n",
        "import tweepy\n",
        "\n",
        "# Store OAuth authentication credentials in relevant variables\n",
        "access_token = \"1092294848-aHN7DcRP9B4VMTQIhwqOYiB14YkW92fFO8k8EPy\"\n",
        "access_token_secret = \"X4dHmhPfaksHcQ7SCbmZa2oYBBVSD2g8uIHXsp5CTaksx\"\n",
        "consumer_key = \"nZ6EA0FxZ293SxGNg8g8aP0HM\"\n",
        "consumer_secret = \"fJGEodwe3KiKUnsYJC3VRndj7jevVvXbK2D5EiJ2nehafRgA6i\"\n",
        "\n",
        "# Pass OAuth details to tweepy's OAuth handler\n",
        "auth = tweepy.OAuthHandler(consumer_key, consumer_secret)\n",
        "auth.set_access_token(access_token,access_token_secret)\n"
      ],
      "execution_count": 0,
      "outputs": []
    },
    {
      "metadata": {
        "id": "cLSkSxkyVL8j",
        "colab_type": "text"
      },
      "cell_type": "markdown",
      "source": [
        "**Streaming tweets**\n",
        "\n",
        "Now that you have set up your authentication credentials, it is time to stream some tweets! We have already defined the tweet stream listener class, **MyStreamListener.**"
      ]
    },
    {
      "metadata": {
        "id": "tityNk1pVLYR",
        "colab_type": "code",
        "colab": {}
      },
      "cell_type": "code",
      "source": [
        "# Initialize Stream listener\n",
        "l = MyStreamListener()\n",
        "\n",
        "# Create your Stream object with authentication\n",
        "stream = tweepy.Stream(auth, l)\n",
        "\n",
        "\n",
        "# Filter Twitter Streams to capture data by the keywords:\n",
        "stream.filter(track=['clinton', 'trump', 'sanders', 'cruz'])\n"
      ],
      "execution_count": 0,
      "outputs": []
    },
    {
      "metadata": {
        "id": "01Wgv0VlVoY6",
        "colab_type": "text"
      },
      "cell_type": "markdown",
      "source": [
        "**Load and explore your Twitter data**\n",
        "\n",
        "Now that you've got your Twitter data sitting locally in a text file, it's time to explore it! In this exercise, you'll read the Twitter data into a list: **tweets_data.**"
      ]
    },
    {
      "metadata": {
        "id": "Oa1aVIZDWhZq",
        "colab_type": "code",
        "colab": {}
      },
      "cell_type": "code",
      "source": [
        "# Import package\n",
        "import json\n",
        "\n",
        "# String of path to file: tweets_data_path\n",
        "tweets_data_path='tweets.txt'\n",
        "\n",
        "# Initialize empty list to store tweets: tweets_data\n",
        "tweets_data=[]\n",
        "\n",
        "# Open connection to file\n",
        "tweets_file = open(tweets_data_path, \"r\")\n",
        "\n",
        "# Read in tweets and store in list: tweets_data\n",
        "for line in tweets_file:\n",
        "    tweet=json.loads(line)\n",
        "    tweets_data.append(tweet)\n",
        "\n",
        "# Close connection to file\n",
        "tweets_file.close()\n",
        "\n",
        "# Print the keys of the first tweet dict\n",
        "print(tweets_data[0].keys())\n"
      ],
      "execution_count": 0,
      "outputs": []
    },
    {
      "metadata": {
        "id": "l2sJo9gIWmt_",
        "colab_type": "text"
      },
      "cell_type": "markdown",
      "source": [
        "**Twitter data to DataFrame**\n",
        "\n",
        "Now you have the Twitter data in a list of dictionaries, tweets_data, where each dictionary corresponds to a single tweet. Next, you're going to extract the text and language of each tweet. The text in a tweet,** t1**, is stored as the value **t1['text'];** similarly, the language is stored in** t1['lang'].** Your task is to build a DataFrame in which each row is a tweet and the columns are '**text**' and **'lang'.**"
      ]
    },
    {
      "metadata": {
        "id": "tJD0ht9vWtO3",
        "colab_type": "code",
        "colab": {}
      },
      "cell_type": "code",
      "source": [
        "# Import package\n",
        "import pandas as pd\n",
        "\n",
        "# Build DataFrame of tweet texts and languages\n",
        "df = pd.DataFrame(tweets_data, columns=('text','lang'))\n",
        "\n",
        "# Print head of DataFrame\n",
        "print(df.head())\n"
      ],
      "execution_count": 0,
      "outputs": []
    },
    {
      "metadata": {
        "id": "GGNYmwO0XEc9",
        "colab_type": "text"
      },
      "cell_type": "markdown",
      "source": [
        "**A little bit of Twitter text analysis**\n",
        "\n",
        "Now that you have your DataFrame of tweets set up, you're going to do a bit of text analysis to count how many tweets contain the words **'clinton', 'trump', 'sanders' and 'cruz'. **In the pre-exercise code, we have defined the following function word_in_text(), which will tell you whether the first argument (a word) occurs within the 2nd argument (a tweet).\n",
        "\n",
        "**import re  **\n",
        "\n",
        "**def word_in_text(word, text):  **\n",
        "\n",
        "    word = word.lower()   \n",
        "    text = tweet.lower()  \n",
        "    match = re.search(word, text)  \n",
        "\n",
        "    if match:  \n",
        "        return True \n",
        "       return False\n",
        "    \n",
        "You're going to iterate over the rows of the DataFrame and calculate how many tweets contain each of our keywords! The list of objects for each candidate has been initialized to 0."
      ]
    },
    {
      "metadata": {
        "id": "l3ESC_duXeeZ",
        "colab_type": "code",
        "colab": {}
      },
      "cell_type": "code",
      "source": [
        "# Initialize list to store tweet counts\n",
        "[clinton, trump, sanders, cruz] = [0, 0, 0, 0]\n",
        "\n",
        "# Iterate through df, counting the number of tweets in which\n",
        "# each candidate is mentioned\n",
        "for index, row in df.iterrows():\n",
        "    clinton += word_in_text('clinton', row['text'])\n",
        "    trump += word_in_text('trump', row['text'])\n",
        "    sanders += word_in_text('sanders', row['text'])\n",
        "    cruz += word_in_text('cruz', row['text'])\n"
      ],
      "execution_count": 0,
      "outputs": []
    },
    {
      "metadata": {
        "id": "5L6xSi85YKGN",
        "colab_type": "text"
      },
      "cell_type": "markdown",
      "source": [
        "**Plotting your Twitter data**\n",
        "\n",
        "Now that you have the number of tweets that each candidate was mentioned in, you can plot a bar chart of this data. You'll use the statistical data visualization library **seaborn**, which you may not have seen before, but we'll guide you through. You'll first import seaborn as **sns**. You'll then construct a barplot of the data using **sns.barplot**, passing it two arguments:\n",
        "\n",
        "a list of labels and\n",
        "a list containing the variables you wish to plot (**clinton, trump** and so on.)\n",
        "\n",
        "Hopefully, you'll see that Trump was unreasonably represented! We have already run the previous exercise solutions in your environment."
      ]
    },
    {
      "metadata": {
        "id": "EvcGlS16YVX0",
        "colab_type": "code",
        "colab": {}
      },
      "cell_type": "code",
      "source": [
        "# Import packages\n",
        "import matplotlib.pyplot as plt\n",
        "import seaborn as sns\n",
        "\n",
        "# Set seaborn style\n",
        "sns.set(color_codes=True)\n",
        "\n",
        "# Create a list of labels:cd\n",
        "cd = ['clinton', 'trump', 'sanders', 'cruz']\n",
        "\n",
        "# Plot histogram\n",
        "ax = sns.barplot(cd, [clinton, trump, sanders, cruz])\n",
        "ax.set(ylabel=\"count\")\n",
        "plt.show()\n"
      ],
      "execution_count": 0,
      "outputs": []
    }
  ]
}